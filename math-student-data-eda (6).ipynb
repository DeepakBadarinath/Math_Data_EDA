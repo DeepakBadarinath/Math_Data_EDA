{
 "cells": [
  {
   "cell_type": "markdown",
   "metadata": {
    "papermill": {
     "duration": 0.0466,
     "end_time": "2020-09-14T08:13:34.754883",
     "exception": false,
     "start_time": "2020-09-14T08:13:34.708283",
     "status": "completed"
    },
    "tags": []
   },
   "source": [
    "# Do you want to know what makes a student good at Math?\n",
    "# Do you like looking at beautiful graphs and visualizations?\n",
    "***If so then this Kernel is perfect for you!***"
   ]
  },
  {
   "cell_type": "markdown",
   "metadata": {
    "papermill": {
     "duration": 0.040928,
     "end_time": "2020-09-14T08:13:34.836697",
     "exception": false,
     "start_time": "2020-09-14T08:13:34.795769",
     "status": "completed"
    },
    "tags": []
   },
   "source": [
    "* We aim to identify, using data visualizaton, key features that affects students performance in the third math exam. To have a look at the descriptions of the attributes, check out https://www.kaggle.com/janiobachmann/math-students\n",
    "* Data collected during the 2005-2006 academic year from the Alentejo region from Portugal from two schools.\n",
    "* The attributes such as math marks in year 1, year 2 was collected from the school records. \n",
    "* Social/economic attributes was collected by making the students fill in a questionnaire."
   ]
  },
  {
   "cell_type": "markdown",
   "metadata": {
    "papermill": {
     "duration": 0.040764,
     "end_time": "2020-09-14T08:13:34.918575",
     "exception": false,
     "start_time": "2020-09-14T08:13:34.877811",
     "status": "completed"
    },
    "tags": []
   },
   "source": [
    "* Note that the authors of the 'Using Data Mining to Predict Secondary School Student Performance' paper have collected the data. They have been formaly cited below. \n",
    "* They have also built a fairly accurate model for prediction. Hence we shall not address the issue of prediction here. "
   ]
  },
  {
   "cell_type": "markdown",
   "metadata": {
    "papermill": {
     "duration": 0.040029,
     "end_time": "2020-09-14T08:13:34.998670",
     "exception": false,
     "start_time": "2020-09-14T08:13:34.958641",
     "status": "completed"
    },
    "tags": []
   },
   "source": [
    "Import the required libraries"
   ]
  },
  {
   "cell_type": "code",
   "execution_count": 1,
   "metadata": {
    "_cell_guid": "b1076dfc-b9ad-4769-8c92-a6c4dae69d19",
    "_uuid": "8f2839f25d086af736a60e9eeb907d3b93b6e0e5",
    "execution": {
     "iopub.execute_input": "2020-09-14T08:13:35.082791Z",
     "iopub.status.busy": "2020-09-14T08:13:35.082055Z",
     "iopub.status.idle": "2020-09-14T08:13:36.298949Z",
     "shell.execute_reply": "2020-09-14T08:13:36.298034Z"
    },
    "papermill": {
     "duration": 1.260286,
     "end_time": "2020-09-14T08:13:36.299162",
     "exception": false,
     "start_time": "2020-09-14T08:13:35.038876",
     "status": "completed"
    },
    "tags": []
   },
   "outputs": [
    {
     "name": "stdout",
     "output_type": "stream",
     "text": [
      "/kaggle/input/math-students/student-mat.csv\n"
     ]
    }
   ],
   "source": [
    "\n",
    "\n",
    "import numpy as np # linear algebra\n",
    "import pandas as pd # data processing, CSV file I/O (e.g. pd.read_csv)\n",
    "\n",
    "pd.plotting.register_matplotlib_converters()\n",
    "import matplotlib.pyplot as plt\n",
    "%matplotlib inline\n",
    "import seaborn as sns\n",
    "\n",
    "\n",
    "\n",
    "import os\n",
    "for dirname, _, filenames in os.walk('/kaggle/input'):\n",
    "    for filename in filenames:\n",
    "        print(os.path.join(dirname, filename))\n",
    "\n"
   ]
  },
  {
   "cell_type": "markdown",
   "metadata": {
    "papermill": {
     "duration": 0.040859,
     "end_time": "2020-09-14T08:13:36.382349",
     "exception": false,
     "start_time": "2020-09-14T08:13:36.341490",
     "status": "completed"
    },
    "tags": []
   },
   "source": [
    "Get data"
   ]
  },
  {
   "cell_type": "code",
   "execution_count": 2,
   "metadata": {
    "_cell_guid": "79c7e3d0-c299-4dcb-8224-4455121ee9b0",
    "_uuid": "d629ff2d2480ee46fbb7e2d37f6b5fab8052498a",
    "execution": {
     "iopub.execute_input": "2020-09-14T08:13:36.477275Z",
     "iopub.status.busy": "2020-09-14T08:13:36.476474Z",
     "iopub.status.idle": "2020-09-14T08:13:36.543541Z",
     "shell.execute_reply": "2020-09-14T08:13:36.542864Z"
    },
    "papermill": {
     "duration": 0.119831,
     "end_time": "2020-09-14T08:13:36.543691",
     "exception": false,
     "start_time": "2020-09-14T08:13:36.423860",
     "status": "completed"
    },
    "tags": []
   },
   "outputs": [],
   "source": [
    "url='/kaggle/input/math-students/student-mat.csv'\n",
    "df=pd.read_csv(url)\n"
   ]
  },
  {
   "cell_type": "markdown",
   "metadata": {
    "papermill": {
     "duration": 0.042485,
     "end_time": "2020-09-14T08:13:36.628173",
     "exception": false,
     "start_time": "2020-09-14T08:13:36.585688",
     "status": "completed"
    },
    "tags": []
   },
   "source": [
    "Check out the first few rows of the data"
   ]
  },
  {
   "cell_type": "code",
   "execution_count": 3,
   "metadata": {
    "execution": {
     "iopub.execute_input": "2020-09-14T08:13:36.740672Z",
     "iopub.status.busy": "2020-09-14T08:13:36.730896Z",
     "iopub.status.idle": "2020-09-14T08:13:36.757197Z",
     "shell.execute_reply": "2020-09-14T08:13:36.756500Z"
    },
    "papermill": {
     "duration": 0.08624,
     "end_time": "2020-09-14T08:13:36.757323",
     "exception": false,
     "start_time": "2020-09-14T08:13:36.671083",
     "status": "completed"
    },
    "tags": []
   },
   "outputs": [
    {
     "data": {
      "text/html": [
       "<div>\n",
       "<style scoped>\n",
       "    .dataframe tbody tr th:only-of-type {\n",
       "        vertical-align: middle;\n",
       "    }\n",
       "\n",
       "    .dataframe tbody tr th {\n",
       "        vertical-align: top;\n",
       "    }\n",
       "\n",
       "    .dataframe thead th {\n",
       "        text-align: right;\n",
       "    }\n",
       "</style>\n",
       "<table border=\"1\" class=\"dataframe\">\n",
       "  <thead>\n",
       "    <tr style=\"text-align: right;\">\n",
       "      <th></th>\n",
       "      <th>school</th>\n",
       "      <th>sex</th>\n",
       "      <th>age</th>\n",
       "      <th>address</th>\n",
       "      <th>famsize</th>\n",
       "      <th>Pstatus</th>\n",
       "      <th>Medu</th>\n",
       "      <th>Fedu</th>\n",
       "      <th>Mjob</th>\n",
       "      <th>Fjob</th>\n",
       "      <th>...</th>\n",
       "      <th>famrel</th>\n",
       "      <th>freetime</th>\n",
       "      <th>goout</th>\n",
       "      <th>Dalc</th>\n",
       "      <th>Walc</th>\n",
       "      <th>health</th>\n",
       "      <th>absences</th>\n",
       "      <th>G1</th>\n",
       "      <th>G2</th>\n",
       "      <th>G3</th>\n",
       "    </tr>\n",
       "  </thead>\n",
       "  <tbody>\n",
       "    <tr>\n",
       "      <th>0</th>\n",
       "      <td>GP</td>\n",
       "      <td>F</td>\n",
       "      <td>18</td>\n",
       "      <td>U</td>\n",
       "      <td>GT3</td>\n",
       "      <td>A</td>\n",
       "      <td>4</td>\n",
       "      <td>4</td>\n",
       "      <td>at_home</td>\n",
       "      <td>teacher</td>\n",
       "      <td>...</td>\n",
       "      <td>4</td>\n",
       "      <td>3</td>\n",
       "      <td>4</td>\n",
       "      <td>1</td>\n",
       "      <td>1</td>\n",
       "      <td>3</td>\n",
       "      <td>6</td>\n",
       "      <td>5</td>\n",
       "      <td>6</td>\n",
       "      <td>6</td>\n",
       "    </tr>\n",
       "    <tr>\n",
       "      <th>1</th>\n",
       "      <td>GP</td>\n",
       "      <td>F</td>\n",
       "      <td>17</td>\n",
       "      <td>U</td>\n",
       "      <td>GT3</td>\n",
       "      <td>T</td>\n",
       "      <td>1</td>\n",
       "      <td>1</td>\n",
       "      <td>at_home</td>\n",
       "      <td>other</td>\n",
       "      <td>...</td>\n",
       "      <td>5</td>\n",
       "      <td>3</td>\n",
       "      <td>3</td>\n",
       "      <td>1</td>\n",
       "      <td>1</td>\n",
       "      <td>3</td>\n",
       "      <td>4</td>\n",
       "      <td>5</td>\n",
       "      <td>5</td>\n",
       "      <td>6</td>\n",
       "    </tr>\n",
       "    <tr>\n",
       "      <th>2</th>\n",
       "      <td>GP</td>\n",
       "      <td>F</td>\n",
       "      <td>15</td>\n",
       "      <td>U</td>\n",
       "      <td>LE3</td>\n",
       "      <td>T</td>\n",
       "      <td>1</td>\n",
       "      <td>1</td>\n",
       "      <td>at_home</td>\n",
       "      <td>other</td>\n",
       "      <td>...</td>\n",
       "      <td>4</td>\n",
       "      <td>3</td>\n",
       "      <td>2</td>\n",
       "      <td>2</td>\n",
       "      <td>3</td>\n",
       "      <td>3</td>\n",
       "      <td>10</td>\n",
       "      <td>7</td>\n",
       "      <td>8</td>\n",
       "      <td>10</td>\n",
       "    </tr>\n",
       "    <tr>\n",
       "      <th>3</th>\n",
       "      <td>GP</td>\n",
       "      <td>F</td>\n",
       "      <td>15</td>\n",
       "      <td>U</td>\n",
       "      <td>GT3</td>\n",
       "      <td>T</td>\n",
       "      <td>4</td>\n",
       "      <td>2</td>\n",
       "      <td>health</td>\n",
       "      <td>services</td>\n",
       "      <td>...</td>\n",
       "      <td>3</td>\n",
       "      <td>2</td>\n",
       "      <td>2</td>\n",
       "      <td>1</td>\n",
       "      <td>1</td>\n",
       "      <td>5</td>\n",
       "      <td>2</td>\n",
       "      <td>15</td>\n",
       "      <td>14</td>\n",
       "      <td>15</td>\n",
       "    </tr>\n",
       "    <tr>\n",
       "      <th>4</th>\n",
       "      <td>GP</td>\n",
       "      <td>F</td>\n",
       "      <td>16</td>\n",
       "      <td>U</td>\n",
       "      <td>GT3</td>\n",
       "      <td>T</td>\n",
       "      <td>3</td>\n",
       "      <td>3</td>\n",
       "      <td>other</td>\n",
       "      <td>other</td>\n",
       "      <td>...</td>\n",
       "      <td>4</td>\n",
       "      <td>3</td>\n",
       "      <td>2</td>\n",
       "      <td>1</td>\n",
       "      <td>2</td>\n",
       "      <td>5</td>\n",
       "      <td>4</td>\n",
       "      <td>6</td>\n",
       "      <td>10</td>\n",
       "      <td>10</td>\n",
       "    </tr>\n",
       "  </tbody>\n",
       "</table>\n",
       "<p>5 rows × 33 columns</p>\n",
       "</div>"
      ],
      "text/plain": [
       "  school sex  age address famsize Pstatus  Medu  Fedu     Mjob      Fjob  ...  \\\n",
       "0     GP   F   18       U     GT3       A     4     4  at_home   teacher  ...   \n",
       "1     GP   F   17       U     GT3       T     1     1  at_home     other  ...   \n",
       "2     GP   F   15       U     LE3       T     1     1  at_home     other  ...   \n",
       "3     GP   F   15       U     GT3       T     4     2   health  services  ...   \n",
       "4     GP   F   16       U     GT3       T     3     3    other     other  ...   \n",
       "\n",
       "  famrel freetime  goout  Dalc  Walc health absences  G1  G2  G3  \n",
       "0      4        3      4     1     1      3        6   5   6   6  \n",
       "1      5        3      3     1     1      3        4   5   5   6  \n",
       "2      4        3      2     2     3      3       10   7   8  10  \n",
       "3      3        2      2     1     1      5        2  15  14  15  \n",
       "4      4        3      2     1     2      5        4   6  10  10  \n",
       "\n",
       "[5 rows x 33 columns]"
      ]
     },
     "execution_count": 3,
     "metadata": {},
     "output_type": "execute_result"
    }
   ],
   "source": [
    "df.head()"
   ]
  },
  {
   "cell_type": "markdown",
   "metadata": {
    "papermill": {
     "duration": 0.041232,
     "end_time": "2020-09-14T08:13:36.841802",
     "exception": false,
     "start_time": "2020-09-14T08:13:36.800570",
     "status": "completed"
    },
    "tags": []
   },
   "source": [
    "Elementary statistics associated with the data"
   ]
  },
  {
   "cell_type": "code",
   "execution_count": 4,
   "metadata": {
    "execution": {
     "iopub.execute_input": "2020-09-14T08:13:36.931257Z",
     "iopub.status.busy": "2020-09-14T08:13:36.930582Z",
     "iopub.status.idle": "2020-09-14T08:13:36.992051Z",
     "shell.execute_reply": "2020-09-14T08:13:36.992659Z"
    },
    "papermill": {
     "duration": 0.109176,
     "end_time": "2020-09-14T08:13:36.992809",
     "exception": false,
     "start_time": "2020-09-14T08:13:36.883633",
     "status": "completed"
    },
    "tags": []
   },
   "outputs": [
    {
     "data": {
      "text/html": [
       "<div>\n",
       "<style scoped>\n",
       "    .dataframe tbody tr th:only-of-type {\n",
       "        vertical-align: middle;\n",
       "    }\n",
       "\n",
       "    .dataframe tbody tr th {\n",
       "        vertical-align: top;\n",
       "    }\n",
       "\n",
       "    .dataframe thead th {\n",
       "        text-align: right;\n",
       "    }\n",
       "</style>\n",
       "<table border=\"1\" class=\"dataframe\">\n",
       "  <thead>\n",
       "    <tr style=\"text-align: right;\">\n",
       "      <th></th>\n",
       "      <th>age</th>\n",
       "      <th>Medu</th>\n",
       "      <th>Fedu</th>\n",
       "      <th>traveltime</th>\n",
       "      <th>studytime</th>\n",
       "      <th>failures</th>\n",
       "      <th>famrel</th>\n",
       "      <th>freetime</th>\n",
       "      <th>goout</th>\n",
       "      <th>Dalc</th>\n",
       "      <th>Walc</th>\n",
       "      <th>health</th>\n",
       "      <th>absences</th>\n",
       "      <th>G1</th>\n",
       "      <th>G2</th>\n",
       "      <th>G3</th>\n",
       "    </tr>\n",
       "  </thead>\n",
       "  <tbody>\n",
       "    <tr>\n",
       "      <th>count</th>\n",
       "      <td>395.000000</td>\n",
       "      <td>395.000000</td>\n",
       "      <td>395.000000</td>\n",
       "      <td>395.000000</td>\n",
       "      <td>395.000000</td>\n",
       "      <td>395.000000</td>\n",
       "      <td>395.000000</td>\n",
       "      <td>395.000000</td>\n",
       "      <td>395.000000</td>\n",
       "      <td>395.000000</td>\n",
       "      <td>395.000000</td>\n",
       "      <td>395.000000</td>\n",
       "      <td>395.000000</td>\n",
       "      <td>395.000000</td>\n",
       "      <td>395.000000</td>\n",
       "      <td>395.000000</td>\n",
       "    </tr>\n",
       "    <tr>\n",
       "      <th>mean</th>\n",
       "      <td>16.696203</td>\n",
       "      <td>2.749367</td>\n",
       "      <td>2.521519</td>\n",
       "      <td>1.448101</td>\n",
       "      <td>2.035443</td>\n",
       "      <td>0.334177</td>\n",
       "      <td>3.944304</td>\n",
       "      <td>3.235443</td>\n",
       "      <td>3.108861</td>\n",
       "      <td>1.481013</td>\n",
       "      <td>2.291139</td>\n",
       "      <td>3.554430</td>\n",
       "      <td>5.708861</td>\n",
       "      <td>10.908861</td>\n",
       "      <td>10.713924</td>\n",
       "      <td>10.415190</td>\n",
       "    </tr>\n",
       "    <tr>\n",
       "      <th>std</th>\n",
       "      <td>1.276043</td>\n",
       "      <td>1.094735</td>\n",
       "      <td>1.088201</td>\n",
       "      <td>0.697505</td>\n",
       "      <td>0.839240</td>\n",
       "      <td>0.743651</td>\n",
       "      <td>0.896659</td>\n",
       "      <td>0.998862</td>\n",
       "      <td>1.113278</td>\n",
       "      <td>0.890741</td>\n",
       "      <td>1.287897</td>\n",
       "      <td>1.390303</td>\n",
       "      <td>8.003096</td>\n",
       "      <td>3.319195</td>\n",
       "      <td>3.761505</td>\n",
       "      <td>4.581443</td>\n",
       "    </tr>\n",
       "    <tr>\n",
       "      <th>min</th>\n",
       "      <td>15.000000</td>\n",
       "      <td>0.000000</td>\n",
       "      <td>0.000000</td>\n",
       "      <td>1.000000</td>\n",
       "      <td>1.000000</td>\n",
       "      <td>0.000000</td>\n",
       "      <td>1.000000</td>\n",
       "      <td>1.000000</td>\n",
       "      <td>1.000000</td>\n",
       "      <td>1.000000</td>\n",
       "      <td>1.000000</td>\n",
       "      <td>1.000000</td>\n",
       "      <td>0.000000</td>\n",
       "      <td>3.000000</td>\n",
       "      <td>0.000000</td>\n",
       "      <td>0.000000</td>\n",
       "    </tr>\n",
       "    <tr>\n",
       "      <th>25%</th>\n",
       "      <td>16.000000</td>\n",
       "      <td>2.000000</td>\n",
       "      <td>2.000000</td>\n",
       "      <td>1.000000</td>\n",
       "      <td>1.000000</td>\n",
       "      <td>0.000000</td>\n",
       "      <td>4.000000</td>\n",
       "      <td>3.000000</td>\n",
       "      <td>2.000000</td>\n",
       "      <td>1.000000</td>\n",
       "      <td>1.000000</td>\n",
       "      <td>3.000000</td>\n",
       "      <td>0.000000</td>\n",
       "      <td>8.000000</td>\n",
       "      <td>9.000000</td>\n",
       "      <td>8.000000</td>\n",
       "    </tr>\n",
       "    <tr>\n",
       "      <th>50%</th>\n",
       "      <td>17.000000</td>\n",
       "      <td>3.000000</td>\n",
       "      <td>2.000000</td>\n",
       "      <td>1.000000</td>\n",
       "      <td>2.000000</td>\n",
       "      <td>0.000000</td>\n",
       "      <td>4.000000</td>\n",
       "      <td>3.000000</td>\n",
       "      <td>3.000000</td>\n",
       "      <td>1.000000</td>\n",
       "      <td>2.000000</td>\n",
       "      <td>4.000000</td>\n",
       "      <td>4.000000</td>\n",
       "      <td>11.000000</td>\n",
       "      <td>11.000000</td>\n",
       "      <td>11.000000</td>\n",
       "    </tr>\n",
       "    <tr>\n",
       "      <th>75%</th>\n",
       "      <td>18.000000</td>\n",
       "      <td>4.000000</td>\n",
       "      <td>3.000000</td>\n",
       "      <td>2.000000</td>\n",
       "      <td>2.000000</td>\n",
       "      <td>0.000000</td>\n",
       "      <td>5.000000</td>\n",
       "      <td>4.000000</td>\n",
       "      <td>4.000000</td>\n",
       "      <td>2.000000</td>\n",
       "      <td>3.000000</td>\n",
       "      <td>5.000000</td>\n",
       "      <td>8.000000</td>\n",
       "      <td>13.000000</td>\n",
       "      <td>13.000000</td>\n",
       "      <td>14.000000</td>\n",
       "    </tr>\n",
       "    <tr>\n",
       "      <th>max</th>\n",
       "      <td>22.000000</td>\n",
       "      <td>4.000000</td>\n",
       "      <td>4.000000</td>\n",
       "      <td>4.000000</td>\n",
       "      <td>4.000000</td>\n",
       "      <td>3.000000</td>\n",
       "      <td>5.000000</td>\n",
       "      <td>5.000000</td>\n",
       "      <td>5.000000</td>\n",
       "      <td>5.000000</td>\n",
       "      <td>5.000000</td>\n",
       "      <td>5.000000</td>\n",
       "      <td>75.000000</td>\n",
       "      <td>19.000000</td>\n",
       "      <td>19.000000</td>\n",
       "      <td>20.000000</td>\n",
       "    </tr>\n",
       "  </tbody>\n",
       "</table>\n",
       "</div>"
      ],
      "text/plain": [
       "              age        Medu        Fedu  traveltime   studytime    failures  \\\n",
       "count  395.000000  395.000000  395.000000  395.000000  395.000000  395.000000   \n",
       "mean    16.696203    2.749367    2.521519    1.448101    2.035443    0.334177   \n",
       "std      1.276043    1.094735    1.088201    0.697505    0.839240    0.743651   \n",
       "min     15.000000    0.000000    0.000000    1.000000    1.000000    0.000000   \n",
       "25%     16.000000    2.000000    2.000000    1.000000    1.000000    0.000000   \n",
       "50%     17.000000    3.000000    2.000000    1.000000    2.000000    0.000000   \n",
       "75%     18.000000    4.000000    3.000000    2.000000    2.000000    0.000000   \n",
       "max     22.000000    4.000000    4.000000    4.000000    4.000000    3.000000   \n",
       "\n",
       "           famrel    freetime       goout        Dalc        Walc      health  \\\n",
       "count  395.000000  395.000000  395.000000  395.000000  395.000000  395.000000   \n",
       "mean     3.944304    3.235443    3.108861    1.481013    2.291139    3.554430   \n",
       "std      0.896659    0.998862    1.113278    0.890741    1.287897    1.390303   \n",
       "min      1.000000    1.000000    1.000000    1.000000    1.000000    1.000000   \n",
       "25%      4.000000    3.000000    2.000000    1.000000    1.000000    3.000000   \n",
       "50%      4.000000    3.000000    3.000000    1.000000    2.000000    4.000000   \n",
       "75%      5.000000    4.000000    4.000000    2.000000    3.000000    5.000000   \n",
       "max      5.000000    5.000000    5.000000    5.000000    5.000000    5.000000   \n",
       "\n",
       "         absences          G1          G2          G3  \n",
       "count  395.000000  395.000000  395.000000  395.000000  \n",
       "mean     5.708861   10.908861   10.713924   10.415190  \n",
       "std      8.003096    3.319195    3.761505    4.581443  \n",
       "min      0.000000    3.000000    0.000000    0.000000  \n",
       "25%      0.000000    8.000000    9.000000    8.000000  \n",
       "50%      4.000000   11.000000   11.000000   11.000000  \n",
       "75%      8.000000   13.000000   13.000000   14.000000  \n",
       "max     75.000000   19.000000   19.000000   20.000000  "
      ]
     },
     "execution_count": 4,
     "metadata": {},
     "output_type": "execute_result"
    }
   ],
   "source": [
    "df.describe()"
   ]
  },
  {
   "cell_type": "markdown",
   "metadata": {
    "papermill": {
     "duration": 0.043302,
     "end_time": "2020-09-14T08:13:37.078776",
     "exception": false,
     "start_time": "2020-09-14T08:13:37.035474",
     "status": "completed"
    },
    "tags": []
   },
   "source": [
    "Presence of null objects and datatypes"
   ]
  },
  {
   "cell_type": "code",
   "execution_count": 5,
   "metadata": {
    "execution": {
     "iopub.execute_input": "2020-09-14T08:13:37.178850Z",
     "iopub.status.busy": "2020-09-14T08:13:37.170427Z",
     "iopub.status.idle": "2020-09-14T08:13:37.188427Z",
     "shell.execute_reply": "2020-09-14T08:13:37.187830Z"
    },
    "papermill": {
     "duration": 0.067427,
     "end_time": "2020-09-14T08:13:37.188565",
     "exception": false,
     "start_time": "2020-09-14T08:13:37.121138",
     "status": "completed"
    },
    "tags": []
   },
   "outputs": [
    {
     "name": "stdout",
     "output_type": "stream",
     "text": [
      "<class 'pandas.core.frame.DataFrame'>\n",
      "RangeIndex: 395 entries, 0 to 394\n",
      "Data columns (total 33 columns):\n",
      " #   Column      Non-Null Count  Dtype \n",
      "---  ------      --------------  ----- \n",
      " 0   school      395 non-null    object\n",
      " 1   sex         395 non-null    object\n",
      " 2   age         395 non-null    int64 \n",
      " 3   address     395 non-null    object\n",
      " 4   famsize     395 non-null    object\n",
      " 5   Pstatus     395 non-null    object\n",
      " 6   Medu        395 non-null    int64 \n",
      " 7   Fedu        395 non-null    int64 \n",
      " 8   Mjob        395 non-null    object\n",
      " 9   Fjob        395 non-null    object\n",
      " 10  reason      395 non-null    object\n",
      " 11  guardian    395 non-null    object\n",
      " 12  traveltime  395 non-null    int64 \n",
      " 13  studytime   395 non-null    int64 \n",
      " 14  failures    395 non-null    int64 \n",
      " 15  schoolsup   395 non-null    object\n",
      " 16  famsup      395 non-null    object\n",
      " 17  paid        395 non-null    object\n",
      " 18  activities  395 non-null    object\n",
      " 19  nursery     395 non-null    object\n",
      " 20  higher      395 non-null    object\n",
      " 21  internet    395 non-null    object\n",
      " 22  romantic    395 non-null    object\n",
      " 23  famrel      395 non-null    int64 \n",
      " 24  freetime    395 non-null    int64 \n",
      " 25  goout       395 non-null    int64 \n",
      " 26  Dalc        395 non-null    int64 \n",
      " 27  Walc        395 non-null    int64 \n",
      " 28  health      395 non-null    int64 \n",
      " 29  absences    395 non-null    int64 \n",
      " 30  G1          395 non-null    int64 \n",
      " 31  G2          395 non-null    int64 \n",
      " 32  G3          395 non-null    int64 \n",
      "dtypes: int64(16), object(17)\n",
      "memory usage: 102.0+ KB\n"
     ]
    }
   ],
   "source": [
    "df.info()"
   ]
  },
  {
   "cell_type": "markdown",
   "metadata": {
    "papermill": {
     "duration": 0.046058,
     "end_time": "2020-09-14T08:13:37.278536",
     "exception": false,
     "start_time": "2020-09-14T08:13:37.232478",
     "status": "completed"
    },
    "tags": []
   },
   "source": [
    "# **Feature Engineering**"
   ]
  },
  {
   "cell_type": "markdown",
   "metadata": {
    "papermill": {
     "duration": 0.043421,
     "end_time": "2020-09-14T08:13:37.365799",
     "exception": false,
     "start_time": "2020-09-14T08:13:37.322378",
     "status": "completed"
    },
    "tags": []
   },
   "source": [
    "Categorical Output- \n",
    "Pass Vs Fail \n",
    "* A student fails if he/she gets below 10"
   ]
  },
  {
   "cell_type": "code",
   "execution_count": 6,
   "metadata": {
    "execution": {
     "iopub.execute_input": "2020-09-14T08:13:37.460670Z",
     "iopub.status.busy": "2020-09-14T08:13:37.459870Z",
     "iopub.status.idle": "2020-09-14T08:13:37.477156Z",
     "shell.execute_reply": "2020-09-14T08:13:37.476462Z"
    },
    "papermill": {
     "duration": 0.067745,
     "end_time": "2020-09-14T08:13:37.477293",
     "exception": false,
     "start_time": "2020-09-14T08:13:37.409548",
     "status": "completed"
    },
    "tags": []
   },
   "outputs": [
    {
     "name": "stdout",
     "output_type": "stream",
     "text": [
      "1    265\n",
      "0    130\n",
      "dtype: int64\n"
     ]
    }
   ],
   "source": [
    "def pass_classify(row):\n",
    "    if row.G3>=10:\n",
    "        return 1\n",
    "    else:\n",
    "        return 0\n",
    "    \n",
    "pass_=df.apply(pass_classify,axis='columns')\n",
    "#print(pass_fail)\n",
    "print(pass_.value_counts())"
   ]
  },
  {
   "cell_type": "markdown",
   "metadata": {
    "papermill": {
     "duration": 0.043929,
     "end_time": "2020-09-14T08:13:37.565319",
     "exception": false,
     "start_time": "2020-09-14T08:13:37.521390",
     "status": "completed"
    },
    "tags": []
   },
   "source": [
    "Categorical Output-\n",
    "Grades: A,B,C,D,F\n",
    "* The grading system is as given in the code below"
   ]
  },
  {
   "cell_type": "code",
   "execution_count": 7,
   "metadata": {
    "execution": {
     "iopub.execute_input": "2020-09-14T08:13:37.683164Z",
     "iopub.status.busy": "2020-09-14T08:13:37.682150Z",
     "iopub.status.idle": "2020-09-14T08:13:37.686580Z",
     "shell.execute_reply": "2020-09-14T08:13:37.685870Z"
    },
    "papermill": {
     "duration": 0.077829,
     "end_time": "2020-09-14T08:13:37.686713",
     "exception": false,
     "start_time": "2020-09-14T08:13:37.608884",
     "status": "completed"
    },
    "tags": []
   },
   "outputs": [
    {
     "name": "stdout",
     "output_type": "stream",
     "text": [
      "F    130\n",
      "D    103\n",
      "C     62\n",
      "B     60\n",
      "A     40\n",
      "dtype: int64\n"
     ]
    }
   ],
   "source": [
    "def grade_classify(row):\n",
    "    if row.G3>=16:\n",
    "        return 'A'\n",
    "    elif row.G3>=14:\n",
    "        return 'B'\n",
    "    elif row.G3>=12:\n",
    "        return 'C'\n",
    "    elif row.G3>=10:\n",
    "        return 'D'\n",
    "    else:\n",
    "        return 'F'\n",
    "    \n",
    "\n",
    "grades=df.apply(grade_classify,axis='columns')\n",
    "print(grades.value_counts())\n"
   ]
  },
  {
   "cell_type": "markdown",
   "metadata": {
    "papermill": {
     "duration": 0.046739,
     "end_time": "2020-09-14T08:13:37.780343",
     "exception": false,
     "start_time": "2020-09-14T08:13:37.733604",
     "status": "completed"
    },
    "tags": []
   },
   "source": [
    "Helper function to find percentage of people passed and grade percentage"
   ]
  },
  {
   "cell_type": "code",
   "execution_count": 8,
   "metadata": {
    "execution": {
     "iopub.execute_input": "2020-09-14T08:13:37.907374Z",
     "iopub.status.busy": "2020-09-14T08:13:37.906331Z",
     "iopub.status.idle": "2020-09-14T08:13:37.909466Z",
     "shell.execute_reply": "2020-09-14T08:13:37.908356Z"
    },
    "papermill": {
     "duration": 0.067179,
     "end_time": "2020-09-14T08:13:37.909604",
     "exception": false,
     "start_time": "2020-09-14T08:13:37.842425",
     "status": "completed"
    },
    "tags": []
   },
   "outputs": [],
   "source": [
    "def get_percent(col):\n",
    "    return (col.value_counts()/col.value_counts().sum())*100\n"
   ]
  },
  {
   "cell_type": "code",
   "execution_count": 9,
   "metadata": {
    "execution": {
     "iopub.execute_input": "2020-09-14T08:13:38.011452Z",
     "iopub.status.busy": "2020-09-14T08:13:38.010715Z",
     "iopub.status.idle": "2020-09-14T08:13:38.045326Z",
     "shell.execute_reply": "2020-09-14T08:13:38.044474Z"
    },
    "papermill": {
     "duration": 0.083415,
     "end_time": "2020-09-14T08:13:38.045459",
     "exception": false,
     "start_time": "2020-09-14T08:13:37.962044",
     "status": "completed"
    },
    "tags": []
   },
   "outputs": [
    {
     "name": "stdout",
     "output_type": "stream",
     "text": [
      "1    67.088608\n",
      "0    32.911392\n",
      "dtype: float64\n"
     ]
    }
   ],
   "source": [
    "pass_percent=get_percent(pass_)\n",
    "print(pass_percent)"
   ]
  },
  {
   "cell_type": "code",
   "execution_count": 10,
   "metadata": {
    "execution": {
     "iopub.execute_input": "2020-09-14T08:13:38.144302Z",
     "iopub.status.busy": "2020-09-14T08:13:38.143575Z",
     "iopub.status.idle": "2020-09-14T08:13:38.150022Z",
     "shell.execute_reply": "2020-09-14T08:13:38.149081Z"
    },
    "papermill": {
     "duration": 0.05964,
     "end_time": "2020-09-14T08:13:38.150200",
     "exception": false,
     "start_time": "2020-09-14T08:13:38.090560",
     "status": "completed"
    },
    "tags": []
   },
   "outputs": [
    {
     "name": "stdout",
     "output_type": "stream",
     "text": [
      "F    32.911392\n",
      "D    26.075949\n",
      "C    15.696203\n",
      "B    15.189873\n",
      "A    10.126582\n",
      "dtype: float64\n"
     ]
    }
   ],
   "source": [
    "grade_percent=get_percent(grades)\n",
    "print(grade_percent)"
   ]
  },
  {
   "cell_type": "code",
   "execution_count": 11,
   "metadata": {
    "execution": {
     "iopub.execute_input": "2020-09-14T08:13:38.247033Z",
     "iopub.status.busy": "2020-09-14T08:13:38.246181Z",
     "iopub.status.idle": "2020-09-14T08:13:38.493782Z",
     "shell.execute_reply": "2020-09-14T08:13:38.493114Z"
    },
    "papermill": {
     "duration": 0.298156,
     "end_time": "2020-09-14T08:13:38.493897",
     "exception": false,
     "start_time": "2020-09-14T08:13:38.195741",
     "status": "completed"
    },
    "tags": []
   },
   "outputs": [
    {
     "data": {
      "text/plain": [
       "<matplotlib.axes._subplots.AxesSubplot at 0x7f5f70429f50>"
      ]
     },
     "execution_count": 11,
     "metadata": {},
     "output_type": "execute_result"
    },
    {
     "data": {
      "image/png": "[encoded data removed]",
      "text/plain": [
       "<Figure size 432x288 with 1 Axes>"
      ]
     },
     "metadata": {
      "needs_background": "light"
     },
     "output_type": "display_data"
    }
   ],
   "source": [
    "sns.distplot(a=df['G3'], kde=False)"
   ]
  },
  {
   "cell_type": "markdown",
   "metadata": {
    "papermill": {
     "duration": 0.047286,
     "end_time": "2020-09-14T08:13:38.588230",
     "exception": false,
     "start_time": "2020-09-14T08:13:38.540944",
     "status": "completed"
    },
    "tags": []
   },
   "source": [
    "* 1/3rd of the people have failed in the exam, which is quite surprising. \n",
    "* More than half the people have recieved a D and a F grade"
   ]
  },
  {
   "cell_type": "code",
   "execution_count": 12,
   "metadata": {
    "execution": {
     "iopub.execute_input": "2020-09-14T08:13:38.689811Z",
     "iopub.status.busy": "2020-09-14T08:13:38.689159Z",
     "iopub.status.idle": "2020-09-14T08:13:38.691983Z",
     "shell.execute_reply": "2020-09-14T08:13:38.692555Z"
    },
    "papermill": {
     "duration": 0.057823,
     "end_time": "2020-09-14T08:13:38.692708",
     "exception": false,
     "start_time": "2020-09-14T08:13:38.634885",
     "status": "completed"
    },
    "tags": []
   },
   "outputs": [
    {
     "name": "stdout",
     "output_type": "stream",
     "text": [
      "0      F\n",
      "1      F\n",
      "2      D\n",
      "3      B\n",
      "4      D\n",
      "      ..\n",
      "390    F\n",
      "391    A\n",
      "392    F\n",
      "393    D\n",
      "394    F\n",
      "Length: 395, dtype: object\n"
     ]
    }
   ],
   "source": [
    "df['grades']=grades\n",
    "print(grades)"
   ]
  },
  {
   "cell_type": "code",
   "execution_count": 13,
   "metadata": {
    "execution": {
     "iopub.execute_input": "2020-09-14T08:13:38.792857Z",
     "iopub.status.busy": "2020-09-14T08:13:38.792183Z",
     "iopub.status.idle": "2020-09-14T08:13:38.810762Z",
     "shell.execute_reply": "2020-09-14T08:13:38.812075Z"
    },
    "papermill": {
     "duration": 0.071318,
     "end_time": "2020-09-14T08:13:38.812299",
     "exception": false,
     "start_time": "2020-09-14T08:13:38.740981",
     "status": "completed"
    },
    "tags": []
   },
   "outputs": [
    {
     "name": "stdout",
     "output_type": "stream",
     "text": [
      "<class 'pandas.core.frame.DataFrame'>\n",
      "RangeIndex: 395 entries, 0 to 394\n",
      "Data columns (total 34 columns):\n",
      " #   Column      Non-Null Count  Dtype \n",
      "---  ------      --------------  ----- \n",
      " 0   school      395 non-null    object\n",
      " 1   sex         395 non-null    object\n",
      " 2   age         395 non-null    int64 \n",
      " 3   address     395 non-null    object\n",
      " 4   famsize     395 non-null    object\n",
      " 5   Pstatus     395 non-null    object\n",
      " 6   Medu        395 non-null    int64 \n",
      " 7   Fedu        395 non-null    int64 \n",
      " 8   Mjob        395 non-null    object\n",
      " 9   Fjob        395 non-null    object\n",
      " 10  reason      395 non-null    object\n",
      " 11  guardian    395 non-null    object\n",
      " 12  traveltime  395 non-null    int64 \n",
      " 13  studytime   395 non-null    int64 \n",
      " 14  failures    395 non-null    int64 \n",
      " 15  schoolsup   395 non-null    object\n",
      " 16  famsup      395 non-null    object\n",
      " 17  paid        395 non-null    object\n",
      " 18  activities  395 non-null    object\n",
      " 19  nursery     395 non-null    object\n",
      " 20  higher      395 non-null    object\n",
      " 21  internet    395 non-null    object\n",
      " 22  romantic    395 non-null    object\n",
      " 23  famrel      395 non-null    int64 \n",
      " 24  freetime    395 non-null    int64 \n",
      " 25  goout       395 non-null    int64 \n",
      " 26  Dalc        395 non-null    int64 \n",
      " 27  Walc        395 non-null    int64 \n",
      " 28  health      395 non-null    int64 \n",
      " 29  absences    395 non-null    int64 \n",
      " 30  G1          395 non-null    int64 \n",
      " 31  G2          395 non-null    int64 \n",
      " 32  G3          395 non-null    int64 \n",
      " 33  grades      395 non-null    object\n",
      "dtypes: int64(16), object(18)\n",
      "memory usage: 105.0+ KB\n"
     ]
    }
   ],
   "source": [
    "df.info()"
   ]
  },
  {
   "cell_type": "markdown",
   "metadata": {
    "papermill": {
     "duration": 0.047106,
     "end_time": "2020-09-14T08:13:38.907302",
     "exception": false,
     "start_time": "2020-09-14T08:13:38.860196",
     "status": "completed"
    },
    "tags": []
   },
   "source": [
    "# **Cramer's V correlation matrix**"
   ]
  },
  {
   "cell_type": "markdown",
   "metadata": {
    "papermill": {
     "duration": 0.04711,
     "end_time": "2020-09-14T08:13:39.003423",
     "exception": false,
     "start_time": "2020-09-14T08:13:38.956313",
     "status": "completed"
    },
    "tags": []
   },
   "source": [
    "We use the Cramer's V correlation matrix to identify correlation b/w categorical features. "
   ]
  },
  {
   "cell_type": "markdown",
   "metadata": {
    "papermill": {
     "duration": 0.047282,
     "end_time": "2020-09-14T08:13:39.098245",
     "exception": false,
     "start_time": "2020-09-14T08:13:39.050963",
     "status": "completed"
    },
    "tags": []
   },
   "source": [
    "1. We firstly remove all the continous attributes from our dataframe"
   ]
  },
  {
   "cell_type": "code",
   "execution_count": 14,
   "metadata": {
    "execution": {
     "iopub.execute_input": "2020-09-14T08:13:39.222648Z",
     "iopub.status.busy": "2020-09-14T08:13:39.221978Z",
     "iopub.status.idle": "2020-09-14T08:13:39.227372Z",
     "shell.execute_reply": "2020-09-14T08:13:39.226795Z"
    },
    "papermill": {
     "duration": 0.081873,
     "end_time": "2020-09-14T08:13:39.227487",
     "exception": false,
     "start_time": "2020-09-14T08:13:39.145614",
     "status": "completed"
    },
    "tags": []
   },
   "outputs": [
    {
     "data": {
      "text/html": [
       "<div>\n",
       "<style scoped>\n",
       "    .dataframe tbody tr th:only-of-type {\n",
       "        vertical-align: middle;\n",
       "    }\n",
       "\n",
       "    .dataframe tbody tr th {\n",
       "        vertical-align: top;\n",
       "    }\n",
       "\n",
       "    .dataframe thead th {\n",
       "        text-align: right;\n",
       "    }\n",
       "</style>\n",
       "<table border=\"1\" class=\"dataframe\">\n",
       "  <thead>\n",
       "    <tr style=\"text-align: right;\">\n",
       "      <th></th>\n",
       "      <th>school</th>\n",
       "      <th>sex</th>\n",
       "      <th>age</th>\n",
       "      <th>address</th>\n",
       "      <th>famsize</th>\n",
       "      <th>Pstatus</th>\n",
       "      <th>Medu</th>\n",
       "      <th>Fedu</th>\n",
       "      <th>Mjob</th>\n",
       "      <th>Fjob</th>\n",
       "      <th>...</th>\n",
       "      <th>higher</th>\n",
       "      <th>internet</th>\n",
       "      <th>romantic</th>\n",
       "      <th>famrel</th>\n",
       "      <th>freetime</th>\n",
       "      <th>goout</th>\n",
       "      <th>Dalc</th>\n",
       "      <th>Walc</th>\n",
       "      <th>health</th>\n",
       "      <th>grades</th>\n",
       "    </tr>\n",
       "  </thead>\n",
       "  <tbody>\n",
       "    <tr>\n",
       "      <th>0</th>\n",
       "      <td>GP</td>\n",
       "      <td>F</td>\n",
       "      <td>18</td>\n",
       "      <td>U</td>\n",
       "      <td>GT3</td>\n",
       "      <td>A</td>\n",
       "      <td>4</td>\n",
       "      <td>4</td>\n",
       "      <td>at_home</td>\n",
       "      <td>teacher</td>\n",
       "      <td>...</td>\n",
       "      <td>yes</td>\n",
       "      <td>no</td>\n",
       "      <td>no</td>\n",
       "      <td>4</td>\n",
       "      <td>3</td>\n",
       "      <td>4</td>\n",
       "      <td>1</td>\n",
       "      <td>1</td>\n",
       "      <td>3</td>\n",
       "      <td>F</td>\n",
       "    </tr>\n",
       "    <tr>\n",
       "      <th>1</th>\n",
       "      <td>GP</td>\n",
       "      <td>F</td>\n",
       "      <td>17</td>\n",
       "      <td>U</td>\n",
       "      <td>GT3</td>\n",
       "      <td>T</td>\n",
       "      <td>1</td>\n",
       "      <td>1</td>\n",
       "      <td>at_home</td>\n",
       "      <td>other</td>\n",
       "      <td>...</td>\n",
       "      <td>yes</td>\n",
       "      <td>yes</td>\n",
       "      <td>no</td>\n",
       "      <td>5</td>\n",
       "      <td>3</td>\n",
       "      <td>3</td>\n",
       "      <td>1</td>\n",
       "      <td>1</td>\n",
       "      <td>3</td>\n",
       "      <td>F</td>\n",
       "    </tr>\n",
       "    <tr>\n",
       "      <th>2</th>\n",
       "      <td>GP</td>\n",
       "      <td>F</td>\n",
       "      <td>15</td>\n",
       "      <td>U</td>\n",
       "      <td>LE3</td>\n",
       "      <td>T</td>\n",
       "      <td>1</td>\n",
       "      <td>1</td>\n",
       "      <td>at_home</td>\n",
       "      <td>other</td>\n",
       "      <td>...</td>\n",
       "      <td>yes</td>\n",
       "      <td>yes</td>\n",
       "      <td>no</td>\n",
       "      <td>4</td>\n",
       "      <td>3</td>\n",
       "      <td>2</td>\n",
       "      <td>2</td>\n",
       "      <td>3</td>\n",
       "      <td>3</td>\n",
       "      <td>D</td>\n",
       "    </tr>\n",
       "    <tr>\n",
       "      <th>3</th>\n",
       "      <td>GP</td>\n",
       "      <td>F</td>\n",
       "      <td>15</td>\n",
       "      <td>U</td>\n",
       "      <td>GT3</td>\n",
       "      <td>T</td>\n",
       "      <td>4</td>\n",
       "      <td>2</td>\n",
       "      <td>health</td>\n",
       "      <td>services</td>\n",
       "      <td>...</td>\n",
       "      <td>yes</td>\n",
       "      <td>yes</td>\n",
       "      <td>yes</td>\n",
       "      <td>3</td>\n",
       "      <td>2</td>\n",
       "      <td>2</td>\n",
       "      <td>1</td>\n",
       "      <td>1</td>\n",
       "      <td>5</td>\n",
       "      <td>B</td>\n",
       "    </tr>\n",
       "    <tr>\n",
       "      <th>4</th>\n",
       "      <td>GP</td>\n",
       "      <td>F</td>\n",
       "      <td>16</td>\n",
       "      <td>U</td>\n",
       "      <td>GT3</td>\n",
       "      <td>T</td>\n",
       "      <td>3</td>\n",
       "      <td>3</td>\n",
       "      <td>other</td>\n",
       "      <td>other</td>\n",
       "      <td>...</td>\n",
       "      <td>yes</td>\n",
       "      <td>no</td>\n",
       "      <td>no</td>\n",
       "      <td>4</td>\n",
       "      <td>3</td>\n",
       "      <td>2</td>\n",
       "      <td>1</td>\n",
       "      <td>2</td>\n",
       "      <td>5</td>\n",
       "      <td>D</td>\n",
       "    </tr>\n",
       "  </tbody>\n",
       "</table>\n",
       "<p>5 rows × 30 columns</p>\n",
       "</div>"
      ],
      "text/plain": [
       "  school sex  age address famsize Pstatus  Medu  Fedu     Mjob      Fjob  ...  \\\n",
       "0     GP   F   18       U     GT3       A     4     4  at_home   teacher  ...   \n",
       "1     GP   F   17       U     GT3       T     1     1  at_home     other  ...   \n",
       "2     GP   F   15       U     LE3       T     1     1  at_home     other  ...   \n",
       "3     GP   F   15       U     GT3       T     4     2   health  services  ...   \n",
       "4     GP   F   16       U     GT3       T     3     3    other     other  ...   \n",
       "\n",
       "  higher internet  romantic  famrel  freetime goout Dalc Walc health grades  \n",
       "0    yes       no        no       4         3     4    1    1      3      F  \n",
       "1    yes      yes        no       5         3     3    1    1      3      F  \n",
       "2    yes      yes        no       4         3     2    2    3      3      D  \n",
       "3    yes      yes       yes       3         2     2    1    1      5      B  \n",
       "4    yes       no        no       4         3     2    1    2      5      D  \n",
       "\n",
       "[5 rows x 30 columns]"
      ]
     },
     "execution_count": 14,
     "metadata": {},
     "output_type": "execute_result"
    }
   ],
   "source": [
    "df_cat = df[[i for i in df.columns if i not in ('G1','G2','G3','absences')]]\n",
    "df_cat.head()"
   ]
  },
  {
   "cell_type": "markdown",
   "metadata": {
    "papermill": {
     "duration": 0.047577,
     "end_time": "2020-09-14T08:13:39.324068",
     "exception": false,
     "start_time": "2020-09-14T08:13:39.276491",
     "status": "completed"
    },
    "tags": []
   },
   "source": [
    "2. Label Encoding of the categorical features is then done"
   ]
  },
  {
   "cell_type": "code",
   "execution_count": 15,
   "metadata": {
    "execution": {
     "iopub.execute_input": "2020-09-14T08:13:39.427185Z",
     "iopub.status.busy": "2020-09-14T08:13:39.426474Z",
     "iopub.status.idle": "2020-09-14T08:13:39.517933Z",
     "shell.execute_reply": "2020-09-14T08:13:39.517342Z"
    },
    "papermill": {
     "duration": 0.146093,
     "end_time": "2020-09-14T08:13:39.518051",
     "exception": false,
     "start_time": "2020-09-14T08:13:39.371958",
     "status": "completed"
    },
    "tags": []
   },
   "outputs": [],
   "source": [
    "from sklearn import preprocessing\n",
    "\n",
    "label = preprocessing.LabelEncoder()\n",
    "data_encoded = pd.DataFrame() \n",
    "\n",
    "for i in df_cat.columns :\n",
    "  data_encoded[i]=label.fit_transform(df_cat[i])"
   ]
  },
  {
   "cell_type": "code",
   "execution_count": 16,
   "metadata": {
    "execution": {
     "iopub.execute_input": "2020-09-14T08:13:39.640550Z",
     "iopub.status.busy": "2020-09-14T08:13:39.621911Z",
     "iopub.status.idle": "2020-09-14T08:13:39.645771Z",
     "shell.execute_reply": "2020-09-14T08:13:39.645237Z"
    },
    "papermill": {
     "duration": 0.079472,
     "end_time": "2020-09-14T08:13:39.645966",
     "exception": false,
     "start_time": "2020-09-14T08:13:39.566494",
     "status": "completed"
    },
    "tags": []
   },
   "outputs": [
    {
     "data": {
      "text/html": [
       "<div>\n",
       "<style scoped>\n",
       "    .dataframe tbody tr th:only-of-type {\n",
       "        vertical-align: middle;\n",
       "    }\n",
       "\n",
       "    .dataframe tbody tr th {\n",
       "        vertical-align: top;\n",
       "    }\n",
       "\n",
       "    .dataframe thead th {\n",
       "        text-align: right;\n",
       "    }\n",
       "</style>\n",
       "<table border=\"1\" class=\"dataframe\">\n",
       "  <thead>\n",
       "    <tr style=\"text-align: right;\">\n",
       "      <th></th>\n",
       "      <th>school</th>\n",
       "      <th>sex</th>\n",
       "      <th>age</th>\n",
       "      <th>address</th>\n",
       "      <th>famsize</th>\n",
       "      <th>Pstatus</th>\n",
       "      <th>Medu</th>\n",
       "      <th>Fedu</th>\n",
       "      <th>Mjob</th>\n",
       "      <th>Fjob</th>\n",
       "      <th>...</th>\n",
       "      <th>higher</th>\n",
       "      <th>internet</th>\n",
       "      <th>romantic</th>\n",
       "      <th>famrel</th>\n",
       "      <th>freetime</th>\n",
       "      <th>goout</th>\n",
       "      <th>Dalc</th>\n",
       "      <th>Walc</th>\n",
       "      <th>health</th>\n",
       "      <th>grades</th>\n",
       "    </tr>\n",
       "  </thead>\n",
       "  <tbody>\n",
       "    <tr>\n",
       "      <th>0</th>\n",
       "      <td>0</td>\n",
       "      <td>0</td>\n",
       "      <td>3</td>\n",
       "      <td>1</td>\n",
       "      <td>0</td>\n",
       "      <td>0</td>\n",
       "      <td>4</td>\n",
       "      <td>4</td>\n",
       "      <td>0</td>\n",
       "      <td>4</td>\n",
       "      <td>...</td>\n",
       "      <td>1</td>\n",
       "      <td>0</td>\n",
       "      <td>0</td>\n",
       "      <td>3</td>\n",
       "      <td>2</td>\n",
       "      <td>3</td>\n",
       "      <td>0</td>\n",
       "      <td>0</td>\n",
       "      <td>2</td>\n",
       "      <td>4</td>\n",
       "    </tr>\n",
       "    <tr>\n",
       "      <th>1</th>\n",
       "      <td>0</td>\n",
       "      <td>0</td>\n",
       "      <td>2</td>\n",
       "      <td>1</td>\n",
       "      <td>0</td>\n",
       "      <td>1</td>\n",
       "      <td>1</td>\n",
       "      <td>1</td>\n",
       "      <td>0</td>\n",
       "      <td>2</td>\n",
       "      <td>...</td>\n",
       "      <td>1</td>\n",
       "      <td>1</td>\n",
       "      <td>0</td>\n",
       "      <td>4</td>\n",
       "      <td>2</td>\n",
       "      <td>2</td>\n",
       "      <td>0</td>\n",
       "      <td>0</td>\n",
       "      <td>2</td>\n",
       "      <td>4</td>\n",
       "    </tr>\n",
       "    <tr>\n",
       "      <th>2</th>\n",
       "      <td>0</td>\n",
       "      <td>0</td>\n",
       "      <td>0</td>\n",
       "      <td>1</td>\n",
       "      <td>1</td>\n",
       "      <td>1</td>\n",
       "      <td>1</td>\n",
       "      <td>1</td>\n",
       "      <td>0</td>\n",
       "      <td>2</td>\n",
       "      <td>...</td>\n",
       "      <td>1</td>\n",
       "      <td>1</td>\n",
       "      <td>0</td>\n",
       "      <td>3</td>\n",
       "      <td>2</td>\n",
       "      <td>1</td>\n",
       "      <td>1</td>\n",
       "      <td>2</td>\n",
       "      <td>2</td>\n",
       "      <td>3</td>\n",
       "    </tr>\n",
       "    <tr>\n",
       "      <th>3</th>\n",
       "      <td>0</td>\n",
       "      <td>0</td>\n",
       "      <td>0</td>\n",
       "      <td>1</td>\n",
       "      <td>0</td>\n",
       "      <td>1</td>\n",
       "      <td>4</td>\n",
       "      <td>2</td>\n",
       "      <td>1</td>\n",
       "      <td>3</td>\n",
       "      <td>...</td>\n",
       "      <td>1</td>\n",
       "      <td>1</td>\n",
       "      <td>1</td>\n",
       "      <td>2</td>\n",
       "      <td>1</td>\n",
       "      <td>1</td>\n",
       "      <td>0</td>\n",
       "      <td>0</td>\n",
       "      <td>4</td>\n",
       "      <td>1</td>\n",
       "    </tr>\n",
       "    <tr>\n",
       "      <th>4</th>\n",
       "      <td>0</td>\n",
       "      <td>0</td>\n",
       "      <td>1</td>\n",
       "      <td>1</td>\n",
       "      <td>0</td>\n",
       "      <td>1</td>\n",
       "      <td>3</td>\n",
       "      <td>3</td>\n",
       "      <td>2</td>\n",
       "      <td>2</td>\n",
       "      <td>...</td>\n",
       "      <td>1</td>\n",
       "      <td>0</td>\n",
       "      <td>0</td>\n",
       "      <td>3</td>\n",
       "      <td>2</td>\n",
       "      <td>1</td>\n",
       "      <td>0</td>\n",
       "      <td>1</td>\n",
       "      <td>4</td>\n",
       "      <td>3</td>\n",
       "    </tr>\n",
       "  </tbody>\n",
       "</table>\n",
       "<p>5 rows × 30 columns</p>\n",
       "</div>"
      ],
      "text/plain": [
       "   school  sex  age  address  famsize  Pstatus  Medu  Fedu  Mjob  Fjob  ...  \\\n",
       "0       0    0    3        1        0        0     4     4     0     4  ...   \n",
       "1       0    0    2        1        0        1     1     1     0     2  ...   \n",
       "2       0    0    0        1        1        1     1     1     0     2  ...   \n",
       "3       0    0    0        1        0        1     4     2     1     3  ...   \n",
       "4       0    0    1        1        0        1     3     3     2     2  ...   \n",
       "\n",
       "   higher  internet  romantic  famrel  freetime  goout  Dalc  Walc  health  \\\n",
       "0       1         0         0       3         2      3     0     0       2   \n",
       "1       1         1         0       4         2      2     0     0       2   \n",
       "2       1         1         0       3         2      1     1     2       2   \n",
       "3       1         1         1       2         1      1     0     0       4   \n",
       "4       1         0         0       3         2      1     0     1       4   \n",
       "\n",
       "   grades  \n",
       "0       4  \n",
       "1       4  \n",
       "2       3  \n",
       "3       1  \n",
       "4       3  \n",
       "\n",
       "[5 rows x 30 columns]"
      ]
     },
     "execution_count": 16,
     "metadata": {},
     "output_type": "execute_result"
    }
   ],
   "source": [
    "data_encoded.head()"
   ]
  },
  {
   "cell_type": "markdown",
   "metadata": {
    "papermill": {
     "duration": 0.050074,
     "end_time": "2020-09-14T08:13:39.745416",
     "exception": false,
     "start_time": "2020-09-14T08:13:39.695342",
     "status": "completed"
    },
    "tags": []
   },
   "source": [
    "3. Building of the Cramer's V function"
   ]
  },
  {
   "cell_type": "code",
   "execution_count": 17,
   "metadata": {
    "execution": {
     "iopub.execute_input": "2020-09-14T08:13:39.854946Z",
     "iopub.status.busy": "2020-09-14T08:13:39.854273Z",
     "iopub.status.idle": "2020-09-14T08:13:39.858082Z",
     "shell.execute_reply": "2020-09-14T08:13:39.857434Z"
    },
    "papermill": {
     "duration": 0.062953,
     "end_time": "2020-09-14T08:13:39.858241",
     "exception": false,
     "start_time": "2020-09-14T08:13:39.795288",
     "status": "completed"
    },
    "tags": []
   },
   "outputs": [],
   "source": [
    "from scipy.stats import chi2_contingency\n",
    "import numpy as np\n",
    "\n",
    "\n",
    "\n",
    "\n",
    "def cramers_V(var1,var2) :\n",
    "  crosstab =np.array(pd.crosstab(var1,var2, rownames=None, colnames=None)) # Cross table building\n",
    "  stat = chi2_contingency(crosstab)[0] # Keeping of the test statistic of the Chi2 test\n",
    "  obs = np.sum(crosstab) # Number of observations\n",
    "  mini = min(crosstab.shape)-1 # Take the minimum value between the columns and the rows of the cross table\n",
    "  return (stat/(obs*mini))"
   ]
  },
  {
   "cell_type": "markdown",
   "metadata": {
    "papermill": {
     "duration": 0.049546,
     "end_time": "2020-09-14T08:13:39.959809",
     "exception": false,
     "start_time": "2020-09-14T08:13:39.910263",
     "status": "completed"
    },
    "tags": []
   },
   "source": [
    "4. Building of the matrix"
   ]
  },
  {
   "cell_type": "code",
   "execution_count": 18,
   "metadata": {
    "execution": {
     "iopub.execute_input": "2020-09-14T08:13:40.085399Z",
     "iopub.status.busy": "2020-09-14T08:13:40.084644Z",
     "iopub.status.idle": "2020-09-14T08:13:50.243537Z",
     "shell.execute_reply": "2020-09-14T08:13:50.244069Z"
    },
    "papermill": {
     "duration": 10.233391,
     "end_time": "2020-09-14T08:13:50.244288",
     "exception": false,
     "start_time": "2020-09-14T08:13:40.010897",
     "status": "completed"
    },
    "tags": []
   },
   "outputs": [
    {
     "data": {
      "text/html": [
       "<div>\n",
       "<style scoped>\n",
       "    .dataframe tbody tr th:only-of-type {\n",
       "        vertical-align: middle;\n",
       "    }\n",
       "\n",
       "    .dataframe tbody tr th {\n",
       "        vertical-align: top;\n",
       "    }\n",
       "\n",
       "    .dataframe thead th {\n",
       "        text-align: right;\n",
       "    }\n",
       "</style>\n",
       "<table border=\"1\" class=\"dataframe\">\n",
       "  <thead>\n",
       "    <tr style=\"text-align: right;\">\n",
       "      <th></th>\n",
       "      <th>school</th>\n",
       "      <th>sex</th>\n",
       "      <th>age</th>\n",
       "      <th>address</th>\n",
       "      <th>famsize</th>\n",
       "      <th>Pstatus</th>\n",
       "      <th>Medu</th>\n",
       "      <th>Fedu</th>\n",
       "      <th>Mjob</th>\n",
       "      <th>Fjob</th>\n",
       "      <th>...</th>\n",
       "      <th>higher</th>\n",
       "      <th>internet</th>\n",
       "      <th>romantic</th>\n",
       "      <th>famrel</th>\n",
       "      <th>freetime</th>\n",
       "      <th>goout</th>\n",
       "      <th>Dalc</th>\n",
       "      <th>Walc</th>\n",
       "      <th>health</th>\n",
       "      <th>grades</th>\n",
       "    </tr>\n",
       "  </thead>\n",
       "  <tbody>\n",
       "    <tr>\n",
       "      <th>school</th>\n",
       "      <td>0.98</td>\n",
       "      <td>0.00</td>\n",
       "      <td>0.19</td>\n",
       "      <td>0.07</td>\n",
       "      <td>0.00</td>\n",
       "      <td>0.00</td>\n",
       "      <td>0.05</td>\n",
       "      <td>0.01</td>\n",
       "      <td>0.01</td>\n",
       "      <td>0.02</td>\n",
       "      <td>...</td>\n",
       "      <td>0.00</td>\n",
       "      <td>0.02</td>\n",
       "      <td>0.00</td>\n",
       "      <td>0.01</td>\n",
       "      <td>0.01</td>\n",
       "      <td>0.01</td>\n",
       "      <td>0.03</td>\n",
       "      <td>0.03</td>\n",
       "      <td>0.01</td>\n",
       "      <td>0.01</td>\n",
       "    </tr>\n",
       "    <tr>\n",
       "      <th>sex</th>\n",
       "      <td>0.00</td>\n",
       "      <td>0.99</td>\n",
       "      <td>0.02</td>\n",
       "      <td>0.00</td>\n",
       "      <td>0.01</td>\n",
       "      <td>0.00</td>\n",
       "      <td>0.01</td>\n",
       "      <td>0.01</td>\n",
       "      <td>0.04</td>\n",
       "      <td>0.01</td>\n",
       "      <td>...</td>\n",
       "      <td>0.02</td>\n",
       "      <td>0.00</td>\n",
       "      <td>0.01</td>\n",
       "      <td>0.01</td>\n",
       "      <td>0.07</td>\n",
       "      <td>0.01</td>\n",
       "      <td>0.08</td>\n",
       "      <td>0.09</td>\n",
       "      <td>0.02</td>\n",
       "      <td>0.02</td>\n",
       "    </tr>\n",
       "    <tr>\n",
       "      <th>age</th>\n",
       "      <td>0.19</td>\n",
       "      <td>0.02</td>\n",
       "      <td>1.00</td>\n",
       "      <td>0.05</td>\n",
       "      <td>0.01</td>\n",
       "      <td>0.03</td>\n",
       "      <td>0.02</td>\n",
       "      <td>0.02</td>\n",
       "      <td>0.02</td>\n",
       "      <td>0.02</td>\n",
       "      <td>...</td>\n",
       "      <td>0.08</td>\n",
       "      <td>0.04</td>\n",
       "      <td>0.04</td>\n",
       "      <td>0.01</td>\n",
       "      <td>0.02</td>\n",
       "      <td>0.02</td>\n",
       "      <td>0.05</td>\n",
       "      <td>0.03</td>\n",
       "      <td>0.02</td>\n",
       "      <td>0.02</td>\n",
       "    </tr>\n",
       "    <tr>\n",
       "      <th>address</th>\n",
       "      <td>0.07</td>\n",
       "      <td>0.00</td>\n",
       "      <td>0.05</td>\n",
       "      <td>0.99</td>\n",
       "      <td>0.00</td>\n",
       "      <td>0.00</td>\n",
       "      <td>0.03</td>\n",
       "      <td>0.02</td>\n",
       "      <td>0.03</td>\n",
       "      <td>0.01</td>\n",
       "      <td>...</td>\n",
       "      <td>0.00</td>\n",
       "      <td>0.04</td>\n",
       "      <td>0.00</td>\n",
       "      <td>0.00</td>\n",
       "      <td>0.01</td>\n",
       "      <td>0.02</td>\n",
       "      <td>0.02</td>\n",
       "      <td>0.01</td>\n",
       "      <td>0.01</td>\n",
       "      <td>0.02</td>\n",
       "    </tr>\n",
       "    <tr>\n",
       "      <th>famsize</th>\n",
       "      <td>0.00</td>\n",
       "      <td>0.01</td>\n",
       "      <td>0.01</td>\n",
       "      <td>0.00</td>\n",
       "      <td>0.99</td>\n",
       "      <td>0.02</td>\n",
       "      <td>0.01</td>\n",
       "      <td>0.01</td>\n",
       "      <td>0.01</td>\n",
       "      <td>0.01</td>\n",
       "      <td>...</td>\n",
       "      <td>0.00</td>\n",
       "      <td>0.00</td>\n",
       "      <td>0.00</td>\n",
       "      <td>0.00</td>\n",
       "      <td>0.01</td>\n",
       "      <td>0.00</td>\n",
       "      <td>0.03</td>\n",
       "      <td>0.01</td>\n",
       "      <td>0.00</td>\n",
       "      <td>0.01</td>\n",
       "    </tr>\n",
       "    <tr>\n",
       "      <th>Pstatus</th>\n",
       "      <td>0.00</td>\n",
       "      <td>0.00</td>\n",
       "      <td>0.03</td>\n",
       "      <td>0.00</td>\n",
       "      <td>0.02</td>\n",
       "      <td>0.97</td>\n",
       "      <td>0.03</td>\n",
       "      <td>0.01</td>\n",
       "      <td>0.01</td>\n",
       "      <td>0.01</td>\n",
       "      <td>...</td>\n",
       "      <td>0.00</td>\n",
       "      <td>0.00</td>\n",
       "      <td>0.00</td>\n",
       "      <td>0.01</td>\n",
       "      <td>0.02</td>\n",
       "      <td>0.01</td>\n",
       "      <td>0.01</td>\n",
       "      <td>0.02</td>\n",
       "      <td>0.01</td>\n",
       "      <td>0.01</td>\n",
       "    </tr>\n",
       "    <tr>\n",
       "      <th>Medu</th>\n",
       "      <td>0.05</td>\n",
       "      <td>0.01</td>\n",
       "      <td>0.02</td>\n",
       "      <td>0.03</td>\n",
       "      <td>0.01</td>\n",
       "      <td>0.03</td>\n",
       "      <td>1.00</td>\n",
       "      <td>0.13</td>\n",
       "      <td>0.14</td>\n",
       "      <td>0.03</td>\n",
       "      <td>...</td>\n",
       "      <td>0.04</td>\n",
       "      <td>0.05</td>\n",
       "      <td>0.01</td>\n",
       "      <td>0.01</td>\n",
       "      <td>0.01</td>\n",
       "      <td>0.01</td>\n",
       "      <td>0.01</td>\n",
       "      <td>0.01</td>\n",
       "      <td>0.01</td>\n",
       "      <td>0.02</td>\n",
       "    </tr>\n",
       "    <tr>\n",
       "      <th>Fedu</th>\n",
       "      <td>0.01</td>\n",
       "      <td>0.01</td>\n",
       "      <td>0.02</td>\n",
       "      <td>0.02</td>\n",
       "      <td>0.01</td>\n",
       "      <td>0.01</td>\n",
       "      <td>0.13</td>\n",
       "      <td>1.00</td>\n",
       "      <td>0.04</td>\n",
       "      <td>0.07</td>\n",
       "      <td>...</td>\n",
       "      <td>0.04</td>\n",
       "      <td>0.02</td>\n",
       "      <td>0.01</td>\n",
       "      <td>0.00</td>\n",
       "      <td>0.01</td>\n",
       "      <td>0.01</td>\n",
       "      <td>0.01</td>\n",
       "      <td>0.01</td>\n",
       "      <td>0.01</td>\n",
       "      <td>0.01</td>\n",
       "    </tr>\n",
       "    <tr>\n",
       "      <th>Mjob</th>\n",
       "      <td>0.01</td>\n",
       "      <td>0.04</td>\n",
       "      <td>0.02</td>\n",
       "      <td>0.03</td>\n",
       "      <td>0.01</td>\n",
       "      <td>0.01</td>\n",
       "      <td>0.14</td>\n",
       "      <td>0.04</td>\n",
       "      <td>1.00</td>\n",
       "      <td>0.05</td>\n",
       "      <td>...</td>\n",
       "      <td>0.02</td>\n",
       "      <td>0.07</td>\n",
       "      <td>0.01</td>\n",
       "      <td>0.01</td>\n",
       "      <td>0.02</td>\n",
       "      <td>0.01</td>\n",
       "      <td>0.01</td>\n",
       "      <td>0.00</td>\n",
       "      <td>0.01</td>\n",
       "      <td>0.02</td>\n",
       "    </tr>\n",
       "    <tr>\n",
       "      <th>Fjob</th>\n",
       "      <td>0.02</td>\n",
       "      <td>0.01</td>\n",
       "      <td>0.02</td>\n",
       "      <td>0.01</td>\n",
       "      <td>0.01</td>\n",
       "      <td>0.01</td>\n",
       "      <td>0.03</td>\n",
       "      <td>0.07</td>\n",
       "      <td>0.05</td>\n",
       "      <td>1.00</td>\n",
       "      <td>...</td>\n",
       "      <td>0.01</td>\n",
       "      <td>0.01</td>\n",
       "      <td>0.01</td>\n",
       "      <td>0.01</td>\n",
       "      <td>0.01</td>\n",
       "      <td>0.01</td>\n",
       "      <td>0.01</td>\n",
       "      <td>0.01</td>\n",
       "      <td>0.01</td>\n",
       "      <td>0.01</td>\n",
       "    </tr>\n",
       "    <tr>\n",
       "      <th>reason</th>\n",
       "      <td>0.03</td>\n",
       "      <td>0.01</td>\n",
       "      <td>0.02</td>\n",
       "      <td>0.02</td>\n",
       "      <td>0.00</td>\n",
       "      <td>0.00</td>\n",
       "      <td>0.01</td>\n",
       "      <td>0.01</td>\n",
       "      <td>0.02</td>\n",
       "      <td>0.01</td>\n",
       "      <td>...</td>\n",
       "      <td>0.03</td>\n",
       "      <td>0.01</td>\n",
       "      <td>0.01</td>\n",
       "      <td>0.01</td>\n",
       "      <td>0.01</td>\n",
       "      <td>0.00</td>\n",
       "      <td>0.01</td>\n",
       "      <td>0.01</td>\n",
       "      <td>0.01</td>\n",
       "      <td>0.01</td>\n",
       "    </tr>\n",
       "    <tr>\n",
       "      <th>guardian</th>\n",
       "      <td>0.01</td>\n",
       "      <td>0.01</td>\n",
       "      <td>0.26</td>\n",
       "      <td>0.01</td>\n",
       "      <td>0.00</td>\n",
       "      <td>0.01</td>\n",
       "      <td>0.01</td>\n",
       "      <td>0.01</td>\n",
       "      <td>0.02</td>\n",
       "      <td>0.02</td>\n",
       "      <td>...</td>\n",
       "      <td>0.00</td>\n",
       "      <td>0.00</td>\n",
       "      <td>0.02</td>\n",
       "      <td>0.01</td>\n",
       "      <td>0.01</td>\n",
       "      <td>0.01</td>\n",
       "      <td>0.01</td>\n",
       "      <td>0.01</td>\n",
       "      <td>0.03</td>\n",
       "      <td>0.01</td>\n",
       "    </tr>\n",
       "    <tr>\n",
       "      <th>traveltime</th>\n",
       "      <td>0.08</td>\n",
       "      <td>0.01</td>\n",
       "      <td>0.01</td>\n",
       "      <td>0.11</td>\n",
       "      <td>0.01</td>\n",
       "      <td>0.00</td>\n",
       "      <td>0.01</td>\n",
       "      <td>0.02</td>\n",
       "      <td>0.02</td>\n",
       "      <td>0.01</td>\n",
       "      <td>...</td>\n",
       "      <td>0.01</td>\n",
       "      <td>0.01</td>\n",
       "      <td>0.01</td>\n",
       "      <td>0.01</td>\n",
       "      <td>0.01</td>\n",
       "      <td>0.02</td>\n",
       "      <td>0.03</td>\n",
       "      <td>0.05</td>\n",
       "      <td>0.01</td>\n",
       "      <td>0.01</td>\n",
       "    </tr>\n",
       "    <tr>\n",
       "      <th>studytime</th>\n",
       "      <td>0.01</td>\n",
       "      <td>0.13</td>\n",
       "      <td>0.02</td>\n",
       "      <td>0.01</td>\n",
       "      <td>0.03</td>\n",
       "      <td>0.01</td>\n",
       "      <td>0.01</td>\n",
       "      <td>0.01</td>\n",
       "      <td>0.00</td>\n",
       "      <td>0.01</td>\n",
       "      <td>...</td>\n",
       "      <td>0.04</td>\n",
       "      <td>0.01</td>\n",
       "      <td>0.03</td>\n",
       "      <td>0.01</td>\n",
       "      <td>0.02</td>\n",
       "      <td>0.02</td>\n",
       "      <td>0.03</td>\n",
       "      <td>0.03</td>\n",
       "      <td>0.02</td>\n",
       "      <td>0.01</td>\n",
       "    </tr>\n",
       "    <tr>\n",
       "      <th>failures</th>\n",
       "      <td>0.01</td>\n",
       "      <td>0.01</td>\n",
       "      <td>0.12</td>\n",
       "      <td>0.01</td>\n",
       "      <td>0.00</td>\n",
       "      <td>0.00</td>\n",
       "      <td>0.04</td>\n",
       "      <td>0.04</td>\n",
       "      <td>0.01</td>\n",
       "      <td>0.01</td>\n",
       "      <td>...</td>\n",
       "      <td>0.11</td>\n",
       "      <td>0.01</td>\n",
       "      <td>0.02</td>\n",
       "      <td>0.01</td>\n",
       "      <td>0.02</td>\n",
       "      <td>0.02</td>\n",
       "      <td>0.02</td>\n",
       "      <td>0.02</td>\n",
       "      <td>0.01</td>\n",
       "      <td>0.05</td>\n",
       "    </tr>\n",
       "    <tr>\n",
       "      <th>schoolsup</th>\n",
       "      <td>0.02</td>\n",
       "      <td>0.02</td>\n",
       "      <td>0.08</td>\n",
       "      <td>0.00</td>\n",
       "      <td>0.00</td>\n",
       "      <td>0.00</td>\n",
       "      <td>0.00</td>\n",
       "      <td>0.00</td>\n",
       "      <td>0.02</td>\n",
       "      <td>0.02</td>\n",
       "      <td>...</td>\n",
       "      <td>0.00</td>\n",
       "      <td>0.00</td>\n",
       "      <td>0.01</td>\n",
       "      <td>0.00</td>\n",
       "      <td>0.02</td>\n",
       "      <td>0.01</td>\n",
       "      <td>0.01</td>\n",
       "      <td>0.03</td>\n",
       "      <td>0.01</td>\n",
       "      <td>0.04</td>\n",
       "    </tr>\n",
       "    <tr>\n",
       "      <th>famsup</th>\n",
       "      <td>0.02</td>\n",
       "      <td>0.02</td>\n",
       "      <td>0.02</td>\n",
       "      <td>0.00</td>\n",
       "      <td>0.01</td>\n",
       "      <td>0.00</td>\n",
       "      <td>0.03</td>\n",
       "      <td>0.04</td>\n",
       "      <td>0.02</td>\n",
       "      <td>0.02</td>\n",
       "      <td>...</td>\n",
       "      <td>0.01</td>\n",
       "      <td>0.01</td>\n",
       "      <td>0.00</td>\n",
       "      <td>0.01</td>\n",
       "      <td>0.01</td>\n",
       "      <td>0.00</td>\n",
       "      <td>0.01</td>\n",
       "      <td>0.01</td>\n",
       "      <td>0.00</td>\n",
       "      <td>0.01</td>\n",
       "    </tr>\n",
       "    <tr>\n",
       "      <th>paid</th>\n",
       "      <td>0.00</td>\n",
       "      <td>0.02</td>\n",
       "      <td>0.01</td>\n",
       "      <td>0.00</td>\n",
       "      <td>0.00</td>\n",
       "      <td>0.00</td>\n",
       "      <td>0.04</td>\n",
       "      <td>0.01</td>\n",
       "      <td>0.03</td>\n",
       "      <td>0.01</td>\n",
       "      <td>...</td>\n",
       "      <td>0.03</td>\n",
       "      <td>0.02</td>\n",
       "      <td>0.00</td>\n",
       "      <td>0.02</td>\n",
       "      <td>0.01</td>\n",
       "      <td>0.01</td>\n",
       "      <td>0.03</td>\n",
       "      <td>0.01</td>\n",
       "      <td>0.02</td>\n",
       "      <td>0.02</td>\n",
       "    </tr>\n",
       "    <tr>\n",
       "      <th>activities</th>\n",
       "      <td>0.01</td>\n",
       "      <td>0.01</td>\n",
       "      <td>0.02</td>\n",
       "      <td>0.00</td>\n",
       "      <td>0.00</td>\n",
       "      <td>0.01</td>\n",
       "      <td>0.02</td>\n",
       "      <td>0.02</td>\n",
       "      <td>0.02</td>\n",
       "      <td>0.01</td>\n",
       "      <td>...</td>\n",
       "      <td>0.01</td>\n",
       "      <td>0.00</td>\n",
       "      <td>0.00</td>\n",
       "      <td>0.00</td>\n",
       "      <td>0.01</td>\n",
       "      <td>0.00</td>\n",
       "      <td>0.01</td>\n",
       "      <td>0.01</td>\n",
       "      <td>0.01</td>\n",
       "      <td>0.01</td>\n",
       "    </tr>\n",
       "    <tr>\n",
       "      <th>nursery</th>\n",
       "      <td>0.01</td>\n",
       "      <td>0.00</td>\n",
       "      <td>0.03</td>\n",
       "      <td>0.00</td>\n",
       "      <td>0.01</td>\n",
       "      <td>0.01</td>\n",
       "      <td>0.05</td>\n",
       "      <td>0.03</td>\n",
       "      <td>0.02</td>\n",
       "      <td>0.01</td>\n",
       "      <td>...</td>\n",
       "      <td>0.00</td>\n",
       "      <td>0.00</td>\n",
       "      <td>0.00</td>\n",
       "      <td>0.01</td>\n",
       "      <td>0.00</td>\n",
       "      <td>0.02</td>\n",
       "      <td>0.02</td>\n",
       "      <td>0.01</td>\n",
       "      <td>0.01</td>\n",
       "      <td>0.01</td>\n",
       "    </tr>\n",
       "    <tr>\n",
       "      <th>higher</th>\n",
       "      <td>0.00</td>\n",
       "      <td>0.02</td>\n",
       "      <td>0.08</td>\n",
       "      <td>0.00</td>\n",
       "      <td>0.00</td>\n",
       "      <td>0.00</td>\n",
       "      <td>0.04</td>\n",
       "      <td>0.04</td>\n",
       "      <td>0.02</td>\n",
       "      <td>0.01</td>\n",
       "      <td>...</td>\n",
       "      <td>0.95</td>\n",
       "      <td>0.00</td>\n",
       "      <td>0.01</td>\n",
       "      <td>0.00</td>\n",
       "      <td>0.01</td>\n",
       "      <td>0.03</td>\n",
       "      <td>0.03</td>\n",
       "      <td>0.03</td>\n",
       "      <td>0.01</td>\n",
       "      <td>0.03</td>\n",
       "    </tr>\n",
       "    <tr>\n",
       "      <th>internet</th>\n",
       "      <td>0.02</td>\n",
       "      <td>0.00</td>\n",
       "      <td>0.04</td>\n",
       "      <td>0.04</td>\n",
       "      <td>0.00</td>\n",
       "      <td>0.00</td>\n",
       "      <td>0.05</td>\n",
       "      <td>0.02</td>\n",
       "      <td>0.07</td>\n",
       "      <td>0.01</td>\n",
       "      <td>...</td>\n",
       "      <td>0.00</td>\n",
       "      <td>0.98</td>\n",
       "      <td>0.01</td>\n",
       "      <td>0.00</td>\n",
       "      <td>0.01</td>\n",
       "      <td>0.01</td>\n",
       "      <td>0.01</td>\n",
       "      <td>0.00</td>\n",
       "      <td>0.01</td>\n",
       "      <td>0.01</td>\n",
       "    </tr>\n",
       "    <tr>\n",
       "      <th>romantic</th>\n",
       "      <td>0.00</td>\n",
       "      <td>0.01</td>\n",
       "      <td>0.04</td>\n",
       "      <td>0.00</td>\n",
       "      <td>0.00</td>\n",
       "      <td>0.00</td>\n",
       "      <td>0.01</td>\n",
       "      <td>0.01</td>\n",
       "      <td>0.01</td>\n",
       "      <td>0.01</td>\n",
       "      <td>...</td>\n",
       "      <td>0.01</td>\n",
       "      <td>0.01</td>\n",
       "      <td>0.99</td>\n",
       "      <td>0.02</td>\n",
       "      <td>0.00</td>\n",
       "      <td>0.00</td>\n",
       "      <td>0.01</td>\n",
       "      <td>0.01</td>\n",
       "      <td>0.01</td>\n",
       "      <td>0.02</td>\n",
       "    </tr>\n",
       "    <tr>\n",
       "      <th>famrel</th>\n",
       "      <td>0.01</td>\n",
       "      <td>0.01</td>\n",
       "      <td>0.01</td>\n",
       "      <td>0.00</td>\n",
       "      <td>0.00</td>\n",
       "      <td>0.01</td>\n",
       "      <td>0.01</td>\n",
       "      <td>0.00</td>\n",
       "      <td>0.01</td>\n",
       "      <td>0.01</td>\n",
       "      <td>...</td>\n",
       "      <td>0.00</td>\n",
       "      <td>0.00</td>\n",
       "      <td>0.02</td>\n",
       "      <td>1.00</td>\n",
       "      <td>0.01</td>\n",
       "      <td>0.01</td>\n",
       "      <td>0.01</td>\n",
       "      <td>0.01</td>\n",
       "      <td>0.01</td>\n",
       "      <td>0.01</td>\n",
       "    </tr>\n",
       "    <tr>\n",
       "      <th>freetime</th>\n",
       "      <td>0.01</td>\n",
       "      <td>0.07</td>\n",
       "      <td>0.02</td>\n",
       "      <td>0.01</td>\n",
       "      <td>0.01</td>\n",
       "      <td>0.02</td>\n",
       "      <td>0.01</td>\n",
       "      <td>0.01</td>\n",
       "      <td>0.02</td>\n",
       "      <td>0.01</td>\n",
       "      <td>...</td>\n",
       "      <td>0.01</td>\n",
       "      <td>0.01</td>\n",
       "      <td>0.00</td>\n",
       "      <td>0.01</td>\n",
       "      <td>1.00</td>\n",
       "      <td>0.05</td>\n",
       "      <td>0.01</td>\n",
       "      <td>0.03</td>\n",
       "      <td>0.01</td>\n",
       "      <td>0.01</td>\n",
       "    </tr>\n",
       "    <tr>\n",
       "      <th>goout</th>\n",
       "      <td>0.01</td>\n",
       "      <td>0.01</td>\n",
       "      <td>0.02</td>\n",
       "      <td>0.02</td>\n",
       "      <td>0.00</td>\n",
       "      <td>0.01</td>\n",
       "      <td>0.01</td>\n",
       "      <td>0.01</td>\n",
       "      <td>0.01</td>\n",
       "      <td>0.01</td>\n",
       "      <td>...</td>\n",
       "      <td>0.03</td>\n",
       "      <td>0.01</td>\n",
       "      <td>0.00</td>\n",
       "      <td>0.01</td>\n",
       "      <td>0.05</td>\n",
       "      <td>1.00</td>\n",
       "      <td>0.03</td>\n",
       "      <td>0.07</td>\n",
       "      <td>0.02</td>\n",
       "      <td>0.02</td>\n",
       "    </tr>\n",
       "    <tr>\n",
       "      <th>Dalc</th>\n",
       "      <td>0.03</td>\n",
       "      <td>0.08</td>\n",
       "      <td>0.05</td>\n",
       "      <td>0.02</td>\n",
       "      <td>0.03</td>\n",
       "      <td>0.01</td>\n",
       "      <td>0.01</td>\n",
       "      <td>0.01</td>\n",
       "      <td>0.01</td>\n",
       "      <td>0.01</td>\n",
       "      <td>...</td>\n",
       "      <td>0.03</td>\n",
       "      <td>0.01</td>\n",
       "      <td>0.01</td>\n",
       "      <td>0.01</td>\n",
       "      <td>0.01</td>\n",
       "      <td>0.03</td>\n",
       "      <td>1.00</td>\n",
       "      <td>0.18</td>\n",
       "      <td>0.01</td>\n",
       "      <td>0.01</td>\n",
       "    </tr>\n",
       "    <tr>\n",
       "      <th>Walc</th>\n",
       "      <td>0.03</td>\n",
       "      <td>0.09</td>\n",
       "      <td>0.03</td>\n",
       "      <td>0.01</td>\n",
       "      <td>0.01</td>\n",
       "      <td>0.02</td>\n",
       "      <td>0.01</td>\n",
       "      <td>0.01</td>\n",
       "      <td>0.00</td>\n",
       "      <td>0.01</td>\n",
       "      <td>...</td>\n",
       "      <td>0.03</td>\n",
       "      <td>0.00</td>\n",
       "      <td>0.01</td>\n",
       "      <td>0.01</td>\n",
       "      <td>0.03</td>\n",
       "      <td>0.07</td>\n",
       "      <td>0.18</td>\n",
       "      <td>1.00</td>\n",
       "      <td>0.01</td>\n",
       "      <td>0.01</td>\n",
       "    </tr>\n",
       "    <tr>\n",
       "      <th>health</th>\n",
       "      <td>0.01</td>\n",
       "      <td>0.02</td>\n",
       "      <td>0.02</td>\n",
       "      <td>0.01</td>\n",
       "      <td>0.00</td>\n",
       "      <td>0.01</td>\n",
       "      <td>0.01</td>\n",
       "      <td>0.01</td>\n",
       "      <td>0.01</td>\n",
       "      <td>0.01</td>\n",
       "      <td>...</td>\n",
       "      <td>0.01</td>\n",
       "      <td>0.01</td>\n",
       "      <td>0.01</td>\n",
       "      <td>0.01</td>\n",
       "      <td>0.01</td>\n",
       "      <td>0.02</td>\n",
       "      <td>0.01</td>\n",
       "      <td>0.01</td>\n",
       "      <td>1.00</td>\n",
       "      <td>0.01</td>\n",
       "    </tr>\n",
       "    <tr>\n",
       "      <th>grades</th>\n",
       "      <td>0.01</td>\n",
       "      <td>0.02</td>\n",
       "      <td>0.02</td>\n",
       "      <td>0.02</td>\n",
       "      <td>0.01</td>\n",
       "      <td>0.01</td>\n",
       "      <td>0.02</td>\n",
       "      <td>0.01</td>\n",
       "      <td>0.02</td>\n",
       "      <td>0.01</td>\n",
       "      <td>...</td>\n",
       "      <td>0.03</td>\n",
       "      <td>0.01</td>\n",
       "      <td>0.02</td>\n",
       "      <td>0.01</td>\n",
       "      <td>0.01</td>\n",
       "      <td>0.02</td>\n",
       "      <td>0.01</td>\n",
       "      <td>0.01</td>\n",
       "      <td>0.01</td>\n",
       "      <td>1.00</td>\n",
       "    </tr>\n",
       "  </tbody>\n",
       "</table>\n",
       "<p>30 rows × 30 columns</p>\n",
       "</div>"
      ],
      "text/plain": [
       "            school   sex   age  address  famsize  Pstatus  Medu  Fedu  Mjob  \\\n",
       "school        0.98  0.00  0.19     0.07     0.00     0.00  0.05  0.01  0.01   \n",
       "sex           0.00  0.99  0.02     0.00     0.01     0.00  0.01  0.01  0.04   \n",
       "age           0.19  0.02  1.00     0.05     0.01     0.03  0.02  0.02  0.02   \n",
       "address       0.07  0.00  0.05     0.99     0.00     0.00  0.03  0.02  0.03   \n",
       "famsize       0.00  0.01  0.01     0.00     0.99     0.02  0.01  0.01  0.01   \n",
       "Pstatus       0.00  0.00  0.03     0.00     0.02     0.97  0.03  0.01  0.01   \n",
       "Medu          0.05  0.01  0.02     0.03     0.01     0.03  1.00  0.13  0.14   \n",
       "Fedu          0.01  0.01  0.02     0.02     0.01     0.01  0.13  1.00  0.04   \n",
       "Mjob          0.01  0.04  0.02     0.03     0.01     0.01  0.14  0.04  1.00   \n",
       "Fjob          0.02  0.01  0.02     0.01     0.01     0.01  0.03  0.07  0.05   \n",
       "reason        0.03  0.01  0.02     0.02     0.00     0.00  0.01  0.01  0.02   \n",
       "guardian      0.01  0.01  0.26     0.01     0.00     0.01  0.01  0.01  0.02   \n",
       "traveltime    0.08  0.01  0.01     0.11     0.01     0.00  0.01  0.02  0.02   \n",
       "studytime     0.01  0.13  0.02     0.01     0.03     0.01  0.01  0.01  0.00   \n",
       "failures      0.01  0.01  0.12     0.01     0.00     0.00  0.04  0.04  0.01   \n",
       "schoolsup     0.02  0.02  0.08     0.00     0.00     0.00  0.00  0.00  0.02   \n",
       "famsup        0.02  0.02  0.02     0.00     0.01     0.00  0.03  0.04  0.02   \n",
       "paid          0.00  0.02  0.01     0.00     0.00     0.00  0.04  0.01  0.03   \n",
       "activities    0.01  0.01  0.02     0.00     0.00     0.01  0.02  0.02  0.02   \n",
       "nursery       0.01  0.00  0.03     0.00     0.01     0.01  0.05  0.03  0.02   \n",
       "higher        0.00  0.02  0.08     0.00     0.00     0.00  0.04  0.04  0.02   \n",
       "internet      0.02  0.00  0.04     0.04     0.00     0.00  0.05  0.02  0.07   \n",
       "romantic      0.00  0.01  0.04     0.00     0.00     0.00  0.01  0.01  0.01   \n",
       "famrel        0.01  0.01  0.01     0.00     0.00     0.01  0.01  0.00  0.01   \n",
       "freetime      0.01  0.07  0.02     0.01     0.01     0.02  0.01  0.01  0.02   \n",
       "goout         0.01  0.01  0.02     0.02     0.00     0.01  0.01  0.01  0.01   \n",
       "Dalc          0.03  0.08  0.05     0.02     0.03     0.01  0.01  0.01  0.01   \n",
       "Walc          0.03  0.09  0.03     0.01     0.01     0.02  0.01  0.01  0.00   \n",
       "health        0.01  0.02  0.02     0.01     0.00     0.01  0.01  0.01  0.01   \n",
       "grades        0.01  0.02  0.02     0.02     0.01     0.01  0.02  0.01  0.02   \n",
       "\n",
       "            Fjob  ...  higher  internet  romantic  famrel  freetime  goout  \\\n",
       "school      0.02  ...    0.00      0.02      0.00    0.01      0.01   0.01   \n",
       "sex         0.01  ...    0.02      0.00      0.01    0.01      0.07   0.01   \n",
       "age         0.02  ...    0.08      0.04      0.04    0.01      0.02   0.02   \n",
       "address     0.01  ...    0.00      0.04      0.00    0.00      0.01   0.02   \n",
       "famsize     0.01  ...    0.00      0.00      0.00    0.00      0.01   0.00   \n",
       "Pstatus     0.01  ...    0.00      0.00      0.00    0.01      0.02   0.01   \n",
       "Medu        0.03  ...    0.04      0.05      0.01    0.01      0.01   0.01   \n",
       "Fedu        0.07  ...    0.04      0.02      0.01    0.00      0.01   0.01   \n",
       "Mjob        0.05  ...    0.02      0.07      0.01    0.01      0.02   0.01   \n",
       "Fjob        1.00  ...    0.01      0.01      0.01    0.01      0.01   0.01   \n",
       "reason      0.01  ...    0.03      0.01      0.01    0.01      0.01   0.00   \n",
       "guardian    0.02  ...    0.00      0.00      0.02    0.01      0.01   0.01   \n",
       "traveltime  0.01  ...    0.01      0.01      0.01    0.01      0.01   0.02   \n",
       "studytime   0.01  ...    0.04      0.01      0.03    0.01      0.02   0.02   \n",
       "failures    0.01  ...    0.11      0.01      0.02    0.01      0.02   0.02   \n",
       "schoolsup   0.02  ...    0.00      0.00      0.01    0.00      0.02   0.01   \n",
       "famsup      0.02  ...    0.01      0.01      0.00    0.01      0.01   0.00   \n",
       "paid        0.01  ...    0.03      0.02      0.00    0.02      0.01   0.01   \n",
       "activities  0.01  ...    0.01      0.00      0.00    0.00      0.01   0.00   \n",
       "nursery     0.01  ...    0.00      0.00      0.00    0.01      0.00   0.02   \n",
       "higher      0.01  ...    0.95      0.00      0.01    0.00      0.01   0.03   \n",
       "internet    0.01  ...    0.00      0.98      0.01    0.00      0.01   0.01   \n",
       "romantic    0.01  ...    0.01      0.01      0.99    0.02      0.00   0.00   \n",
       "famrel      0.01  ...    0.00      0.00      0.02    1.00      0.01   0.01   \n",
       "freetime    0.01  ...    0.01      0.01      0.00    0.01      1.00   0.05   \n",
       "goout       0.01  ...    0.03      0.01      0.00    0.01      0.05   1.00   \n",
       "Dalc        0.01  ...    0.03      0.01      0.01    0.01      0.01   0.03   \n",
       "Walc        0.01  ...    0.03      0.00      0.01    0.01      0.03   0.07   \n",
       "health      0.01  ...    0.01      0.01      0.01    0.01      0.01   0.02   \n",
       "grades      0.01  ...    0.03      0.01      0.02    0.01      0.01   0.02   \n",
       "\n",
       "            Dalc  Walc  health  grades  \n",
       "school      0.03  0.03    0.01    0.01  \n",
       "sex         0.08  0.09    0.02    0.02  \n",
       "age         0.05  0.03    0.02    0.02  \n",
       "address     0.02  0.01    0.01    0.02  \n",
       "famsize     0.03  0.01    0.00    0.01  \n",
       "Pstatus     0.01  0.02    0.01    0.01  \n",
       "Medu        0.01  0.01    0.01    0.02  \n",
       "Fedu        0.01  0.01    0.01    0.01  \n",
       "Mjob        0.01  0.00    0.01    0.02  \n",
       "Fjob        0.01  0.01    0.01    0.01  \n",
       "reason      0.01  0.01    0.01    0.01  \n",
       "guardian    0.01  0.01    0.03    0.01  \n",
       "traveltime  0.03  0.05    0.01    0.01  \n",
       "studytime   0.03  0.03    0.02    0.01  \n",
       "failures    0.02  0.02    0.01    0.05  \n",
       "schoolsup   0.01  0.03    0.01    0.04  \n",
       "famsup      0.01  0.01    0.00    0.01  \n",
       "paid        0.03  0.01    0.02    0.02  \n",
       "activities  0.01  0.01    0.01    0.01  \n",
       "nursery     0.02  0.01    0.01    0.01  \n",
       "higher      0.03  0.03    0.01    0.03  \n",
       "internet    0.01  0.00    0.01    0.01  \n",
       "romantic    0.01  0.01    0.01    0.02  \n",
       "famrel      0.01  0.01    0.01    0.01  \n",
       "freetime    0.01  0.03    0.01    0.01  \n",
       "goout       0.03  0.07    0.02    0.02  \n",
       "Dalc        1.00  0.18    0.01    0.01  \n",
       "Walc        0.18  1.00    0.01    0.01  \n",
       "health      0.01  0.01    1.00    0.01  \n",
       "grades      0.01  0.01    0.01    1.00  \n",
       "\n",
       "[30 rows x 30 columns]"
      ]
     },
     "execution_count": 18,
     "metadata": {},
     "output_type": "execute_result"
    }
   ],
   "source": [
    "rows= []\n",
    "\n",
    "for var1 in data_encoded:\n",
    "  col = []\n",
    "  for var2 in data_encoded :\n",
    "    cramers =cramers_V(data_encoded[var1], data_encoded[var2]) # Cramer's V test\n",
    "    col.append(round(cramers,2)) # Keeping of the rounded value of the Cramer's V  \n",
    "  rows.append(col)\n",
    "  \n",
    "cramers_results = np.array(rows)\n",
    "df_var = pd.DataFrame(cramers_results, columns = data_encoded.columns, index =data_encoded.columns)\n",
    "\n",
    "\n",
    "\n",
    "df_var"
   ]
  },
  {
   "cell_type": "markdown",
   "metadata": {
    "papermill": {
     "duration": 0.051228,
     "end_time": "2020-09-14T08:13:50.427380",
     "exception": false,
     "start_time": "2020-09-14T08:13:50.376152",
     "status": "completed"
    },
    "tags": []
   },
   "source": [
    "5. Add a heatmap to the matrix"
   ]
  },
  {
   "cell_type": "code",
   "execution_count": 19,
   "metadata": {
    "execution": {
     "iopub.execute_input": "2020-09-14T08:13:50.535407Z",
     "iopub.status.busy": "2020-09-14T08:13:50.534652Z",
     "iopub.status.idle": "2020-09-14T08:13:53.662388Z",
     "shell.execute_reply": "2020-09-14T08:13:53.662927Z"
    },
    "papermill": {
     "duration": 3.184346,
     "end_time": "2020-09-14T08:13:53.663120",
     "exception": false,
     "start_time": "2020-09-14T08:13:50.478774",
     "status": "completed"
    },
    "tags": []
   },
   "outputs": [
    {
     "data": {
      "image/png": "[encoded data removed]",
      "text/plain": [
       "<Figure size 1440x1440 with 2 Axes>"
      ]
     },
     "metadata": {
      "needs_background": "light"
     },
     "output_type": "display_data"
    }
   ],
   "source": [
    "import seaborn as sns\n",
    "import matplotlib.pyplot as plt\n",
    "\n",
    "plt.figure(figsize=(20,20))\n",
    "plt.title(\"Heatmap of categorical variables\")\n",
    "sns.heatmap(data=df_var,vmin=0, vmax=1,annot=True)\n",
    "\n",
    "plt.show()\n"
   ]
  },
  {
   "cell_type": "markdown",
   "metadata": {
    "papermill": {
     "duration": 0.055664,
     "end_time": "2020-09-14T08:13:53.774322",
     "exception": false,
     "start_time": "2020-09-14T08:13:53.718658",
     "status": "completed"
    },
    "tags": []
   },
   "source": [
    "* We see that there is almost a negligible relationship with all the categorical attributes and grades"
   ]
  },
  {
   "cell_type": "markdown",
   "metadata": {
    "papermill": {
     "duration": 0.054648,
     "end_time": "2020-09-14T08:13:53.885860",
     "exception": false,
     "start_time": "2020-09-14T08:13:53.831212",
     "status": "completed"
    },
    "tags": []
   },
   "source": [
    "# **Scatter Plots**"
   ]
  },
  {
   "cell_type": "code",
   "execution_count": 20,
   "metadata": {
    "execution": {
     "iopub.execute_input": "2020-09-14T08:13:54.011789Z",
     "iopub.status.busy": "2020-09-14T08:13:54.010676Z",
     "iopub.status.idle": "2020-09-14T08:13:54.208195Z",
     "shell.execute_reply": "2020-09-14T08:13:54.208698Z"
    },
    "papermill": {
     "duration": 0.267945,
     "end_time": "2020-09-14T08:13:54.208879",
     "exception": false,
     "start_time": "2020-09-14T08:13:53.940934",
     "status": "completed"
    },
    "tags": []
   },
   "outputs": [
    {
     "data": {
      "image/png": "[encoded data removed]",
      "text/plain": [
       "<Figure size 720x432 with 1 Axes>"
      ]
     },
     "metadata": {
      "needs_background": "light"
     },
     "output_type": "display_data"
    }
   ],
   "source": [
    "x1=df['G1']\n",
    "x2=df['G2']\n",
    "y=df['G3']\n",
    "plt.figure(figsize=(10,6))\n",
    "plt.title(\"Year 3 grade VS Year1 and Year2 grade\")\n",
    "g1=plt.scatter(x1,y,marker='x')\n",
    "g2=plt.scatter(x2,y,marker='o')\n",
    "plt.legend((g1, g2),\n",
    "           ('Year1 Grade', 'Year2 Grade'),\n",
    "           scatterpoints=1,\n",
    "           loc='upper left',\n",
    "           ncol=3,\n",
    "           fontsize=8)\n",
    "plt.xlabel(\"Marks(out of 20) of year1/year2\")\n",
    "plt.ylabel(\"Marks(out of 20) of year 3\")\n",
    "plt.show() \n",
    "\n"
   ]
  },
  {
   "cell_type": "markdown",
   "metadata": {
    "papermill": {
     "duration": 0.057664,
     "end_time": "2020-09-14T08:13:54.324719",
     "exception": false,
     "start_time": "2020-09-14T08:13:54.267055",
     "status": "completed"
    },
    "tags": []
   },
   "source": [
    "* The previous grades G1 and G2 seem to be positively linearly correlated to G3"
   ]
  },
  {
   "cell_type": "markdown",
   "metadata": {
    "papermill": {
     "duration": 0.056623,
     "end_time": "2020-09-14T08:13:54.438642",
     "exception": false,
     "start_time": "2020-09-14T08:13:54.382019",
     "status": "completed"
    },
    "tags": []
   },
   "source": [
    "# **No of absent days VS Marks scatter plot**"
   ]
  },
  {
   "cell_type": "code",
   "execution_count": 21,
   "metadata": {
    "execution": {
     "iopub.execute_input": "2020-09-14T08:13:54.566474Z",
     "iopub.status.busy": "2020-09-14T08:13:54.565677Z",
     "iopub.status.idle": "2020-09-14T08:13:54.739011Z",
     "shell.execute_reply": "2020-09-14T08:13:54.738287Z"
    },
    "papermill": {
     "duration": 0.24249,
     "end_time": "2020-09-14T08:13:54.739161",
     "exception": false,
     "start_time": "2020-09-14T08:13:54.496671",
     "status": "completed"
    },
    "tags": []
   },
   "outputs": [
    {
     "data": {
      "image/png": "[encoded data removed]",
      "text/plain": [
       "<Figure size 720x432 with 1 Axes>"
      ]
     },
     "metadata": {
      "needs_background": "light"
     },
     "output_type": "display_data"
    }
   ],
   "source": [
    "plt.figure(figsize=(10,6))\n",
    "plt.title(\"No of absent days VS Marks\")\n",
    "plt.scatter(df[\"absences\"],df[\"G3\"])\n",
    "\n",
    "plt.ylabel(\"Marks(out of 20) of year 3\")\n",
    "plt.xlabel(\"Absent days\")\n",
    "plt.show()"
   ]
  },
  {
   "cell_type": "markdown",
   "metadata": {
    "papermill": {
     "duration": 0.066283,
     "end_time": "2020-09-14T08:13:54.867690",
     "exception": false,
     "start_time": "2020-09-14T08:13:54.801407",
     "status": "completed"
    },
    "tags": []
   },
   "source": [
    "* There doesn't seem to be much a relation with no of absent days and marks. However since most students have taken only between 0 to 10 days of leave, we might not have enough information to conclude much"
   ]
  },
  {
   "cell_type": "markdown",
   "metadata": {
    "papermill": {
     "duration": 0.057647,
     "end_time": "2020-09-14T08:13:54.983550",
     "exception": false,
     "start_time": "2020-09-14T08:13:54.925903",
     "status": "completed"
    },
    "tags": []
   },
   "source": [
    "# **Boxplots**"
   ]
  },
  {
   "cell_type": "code",
   "execution_count": 22,
   "metadata": {
    "execution": {
     "iopub.execute_input": "2020-09-14T08:13:55.114897Z",
     "iopub.status.busy": "2020-09-14T08:13:55.110209Z",
     "iopub.status.idle": "2020-09-14T08:13:56.411675Z",
     "shell.execute_reply": "2020-09-14T08:13:56.410987Z"
    },
    "papermill": {
     "duration": 1.370866,
     "end_time": "2020-09-14T08:13:56.411794",
     "exception": false,
     "start_time": "2020-09-14T08:13:55.040928",
     "status": "completed"
    },
    "tags": []
   },
   "outputs": [
    {
     "data": {
      "image/png": "[encoded data removed]",
      "text/plain": [
       "<Figure size 432x288 with 1 Axes>"
      ]
     },
     "metadata": {
      "needs_background": "light"
     },
     "output_type": "display_data"
    },
    {
     "data": {
      "image/png": "[encoded data removed]",
      "text/plain": [
       "<Figure size 432x288 with 1 Axes>"
      ]
     },
     "metadata": {
      "needs_background": "light"
     },
     "output_type": "display_data"
    },
    {
     "data": {
      "image/png": "[encoded data removed]",
      "text/plain": [
       "<Figure size 432x288 with 1 Axes>"
      ]
     },
     "metadata": {
      "needs_background": "light"
     },
     "output_type": "display_data"
    },
    {
     "data": {
      "image/png": "[encoded data removed]",
      "text/plain": [
       "<Figure size 432x288 with 1 Axes>"
      ]
     },
     "metadata": {
      "needs_background": "light"
     },
     "output_type": "display_data"
    },
    {
     "data": {
      "image/png": "[encoded data removed]",
      "text/plain": [
       "<Figure size 432x288 with 1 Axes>"
      ]
     },
     "metadata": {
      "needs_background": "light"
     },
     "output_type": "display_data"
    }
   ],
   "source": [
    "#plt.figure(figsize=(12,7))\n",
    "plt.title(\"Sex vs Math marks in final exam\")\n",
    "ax = sns.boxplot(x=\"sex\", y=\"G3\", data=df)\n",
    "plt.ylabel(\"Marks in final exam\")\n",
    "plt.show()\n",
    "\n",
    "\n",
    "plt.title(\"Daily drinking VS Math marks\")\n",
    "ax = sns.boxplot(x=\"Dalc\", y=\"G3\",data=df)\n",
    "plt.xlabel(\"Daily alcohol consumption\")\n",
    "plt.ylabel(\"Marks in final exam\")\n",
    "plt.show()\n",
    "\n",
    "plt.title(\"Quality of family relationship VS Math marks\")\n",
    "ax=sns.boxplot(x=\"famrel\",y=\"G3\",data=df)\n",
    "plt.ylabel(\"Marks in final exam\")\n",
    "plt.xlabel(\"Quality of family relationship\")\n",
    "plt.show()\n",
    "\n",
    "\n",
    "ax = sns.boxplot(x=\"romantic\", y=\"G3\", hue=\"goout\",\n",
    "                 data=df)\n",
    "plt.ylabel(\"Marks in final exam\")\n",
    "plt.xlabel(\"Involved in a romantic relationship\")\n",
    "plt.show()\n",
    "\n",
    "\n",
    "ax=sns.boxplot(x=\"reason\",y=\"G3\",data=df)\n",
    "plt.ylabel(\"Marks in final exam\")\n",
    "plt.xlabel(\"Reason to choose this school\")\n",
    "plt.show()\n",
    "\n",
    "\n",
    "\n"
   ]
  },
  {
   "cell_type": "markdown",
   "metadata": {
    "papermill": {
     "duration": 0.062699,
     "end_time": "2020-09-14T08:13:56.538025",
     "exception": false,
     "start_time": "2020-09-14T08:13:56.475326",
     "status": "completed"
    },
    "tags": []
   },
   "source": [
    "* The boxplots don't give much information as the categorical factors don't seem to be correlated with the final exam marks"
   ]
  },
  {
   "cell_type": "markdown",
   "metadata": {
    "papermill": {
     "duration": 0.062626,
     "end_time": "2020-09-14T08:13:56.664073",
     "exception": false,
     "start_time": "2020-09-14T08:13:56.601447",
     "status": "completed"
    },
    "tags": []
   },
   "source": [
    "# 2D KDE plots"
   ]
  },
  {
   "cell_type": "markdown",
   "metadata": {
    "papermill": {
     "duration": 0.0669,
     "end_time": "2020-09-14T08:13:56.793816",
     "exception": false,
     "start_time": "2020-09-14T08:13:56.726916",
     "status": "completed"
    },
    "tags": []
   },
   "source": [
    "We have a look at a 2D KDE plot between marks in the final exam vs the first/second exam respectively"
   ]
  },
  {
   "cell_type": "code",
   "execution_count": 23,
   "metadata": {
    "execution": {
     "iopub.execute_input": "2020-09-14T08:13:56.936638Z",
     "iopub.status.busy": "2020-09-14T08:13:56.935733Z",
     "iopub.status.idle": "2020-09-14T08:14:00.256300Z",
     "shell.execute_reply": "2020-09-14T08:14:00.257011Z"
    },
    "papermill": {
     "duration": 3.395311,
     "end_time": "2020-09-14T08:14:00.257217",
     "exception": false,
     "start_time": "2020-09-14T08:13:56.861906",
     "status": "completed"
    },
    "tags": []
   },
   "outputs": [
    {
     "data": {
      "image/png": "[encoded data removed]",
      "text/plain": [
       "<Figure size 432x432 with 3 Axes>"
      ]
     },
     "metadata": {
      "needs_background": "light"
     },
     "output_type": "display_data"
    },
    {
     "data": {
      "image/png": "[encoded data removed]",
      "text/plain": [
       "<Figure size 432x432 with 3 Axes>"
      ]
     },
     "metadata": {
      "needs_background": "light"
     },
     "output_type": "display_data"
    }
   ],
   "source": [
    "\n",
    "sns.jointplot(x=df['G1'], y=df['G3'], kind=\"kde\")\n",
    "#plt.title(\"2D KDE plot b/w marks in first exam vs marks in final exam\")\n",
    "plt.xlabel('Marks in first exam')\n",
    "plt.ylabel('Marks in final exam')\n",
    "plt.show()\n",
    "\n",
    "\n",
    "\n",
    "sns.jointplot(x=df['G2'], y=df['G3'], kind=\"kde\")\n",
    "#plt.title(\"2D KDE plot b/w marks in second exam vs marks in final exam\")\n",
    "plt.xlabel('Marks in second exam')\n",
    "plt.ylabel('Marks in final exam')\n",
    "plt.show()\n"
   ]
  },
  {
   "cell_type": "markdown",
   "metadata": {
    "papermill": {
     "duration": 0.066804,
     "end_time": "2020-09-14T08:14:00.393016",
     "exception": false,
     "start_time": "2020-09-14T08:14:00.326212",
     "status": "completed"
    },
    "tags": []
   },
   "source": [
    "* This shows in a very beautiful manner the linear relationship present b/w the marks in final exam VS the marks in the first/second exams respectively\n",
    "* Also the data is centered around (10,10) in both plots"
   ]
  },
  {
   "cell_type": "markdown",
   "metadata": {
    "papermill": {
     "duration": 0.065265,
     "end_time": "2020-09-14T08:14:00.525068",
     "exception": false,
     "start_time": "2020-09-14T08:14:00.459803",
     "status": "completed"
    },
    "tags": []
   },
   "source": [
    "**Converting Categorical data to Numerical data**"
   ]
  },
  {
   "cell_type": "markdown",
   "metadata": {
    "papermill": {
     "duration": 0.065747,
     "end_time": "2020-09-14T08:14:00.656823",
     "exception": false,
     "start_time": "2020-09-14T08:14:00.591076",
     "status": "completed"
    },
    "tags": []
   },
   "source": [
    "We want to use label encoding for ONLY those labels in which the labels can be compared to one another. For example if the labels were short and tall, we would assign 0 to short and 1 to tall"
   ]
  },
  {
   "cell_type": "markdown",
   "metadata": {
    "papermill": {
     "duration": 0.067773,
     "end_time": "2020-09-14T08:14:00.790769",
     "exception": false,
     "start_time": "2020-09-14T08:14:00.722996",
     "status": "completed"
    },
    "tags": []
   },
   "source": [
    "We label encode the 'romantic' attribute('romantic'='yes' if student is in a romantic relationship, else it is 'no'). We want to assign 0 to 'no' and 1 to 'yes'"
   ]
  },
  {
   "cell_type": "code",
   "execution_count": 24,
   "metadata": {
    "execution": {
     "iopub.execute_input": "2020-09-14T08:14:00.935054Z",
     "iopub.status.busy": "2020-09-14T08:14:00.933966Z",
     "iopub.status.idle": "2020-09-14T08:14:00.938494Z",
     "shell.execute_reply": "2020-09-14T08:14:00.939066Z"
    },
    "papermill": {
     "duration": 0.080573,
     "end_time": "2020-09-14T08:14:00.939277",
     "exception": false,
     "start_time": "2020-09-14T08:14:00.858704",
     "status": "completed"
    },
    "tags": []
   },
   "outputs": [
    {
     "name": "stdout",
     "output_type": "stream",
     "text": [
      "0\n",
      "no\n"
     ]
    }
   ],
   "source": [
    "from sklearn import preprocessing \n",
    "  \n",
    "# label_encoder object knows how to understand word labels. \n",
    "label_encoder = preprocessing.LabelEncoder() \n",
    "  \n",
    "# Encode labels in columns\n",
    "\n",
    "romantic_no=label_encoder.fit_transform(df['romantic'])\n",
    "\n",
    "print(romantic_no[0])\n",
    "print(df['romantic'][0])\n"
   ]
  },
  {
   "cell_type": "markdown",
   "metadata": {
    "papermill": {
     "duration": 0.065568,
     "end_time": "2020-09-14T08:14:01.070767",
     "exception": false,
     "start_time": "2020-09-14T08:14:01.005199",
     "status": "completed"
    },
    "tags": []
   },
   "source": [
    "Our assignment, by luck turned out to be correct. We could have gotten 1 to be assigned to no instead of 0, then we should have modified the labelling"
   ]
  },
  {
   "cell_type": "code",
   "execution_count": 25,
   "metadata": {
    "execution": {
     "iopub.execute_input": "2020-09-14T08:14:01.209503Z",
     "iopub.status.busy": "2020-09-14T08:14:01.208643Z",
     "iopub.status.idle": "2020-09-14T08:14:01.212333Z",
     "shell.execute_reply": "2020-09-14T08:14:01.211744Z"
    },
    "papermill": {
     "duration": 0.075691,
     "end_time": "2020-09-14T08:14:01.212471",
     "exception": false,
     "start_time": "2020-09-14T08:14:01.136780",
     "status": "completed"
    },
    "tags": []
   },
   "outputs": [],
   "source": [
    "df['romantic']=romantic_no"
   ]
  },
  {
   "cell_type": "markdown",
   "metadata": {
    "papermill": {
     "duration": 0.067313,
     "end_time": "2020-09-14T08:14:01.347424",
     "exception": false,
     "start_time": "2020-09-14T08:14:01.280111",
     "status": "completed"
    },
    "tags": []
   },
   "source": [
    "Converting more categorical labels to numeric(by checking if encoding is right)"
   ]
  },
  {
   "cell_type": "code",
   "execution_count": 26,
   "metadata": {
    "execution": {
     "iopub.execute_input": "2020-09-14T08:14:01.492385Z",
     "iopub.status.busy": "2020-09-14T08:14:01.491579Z",
     "iopub.status.idle": "2020-09-14T08:14:01.502718Z",
     "shell.execute_reply": "2020-09-14T08:14:01.502058Z"
    },
    "papermill": {
     "duration": 0.088527,
     "end_time": "2020-09-14T08:14:01.502856",
     "exception": false,
     "start_time": "2020-09-14T08:14:01.414329",
     "status": "completed"
    },
    "tags": []
   },
   "outputs": [],
   "source": [
    "famsize_no=label_encoder.fit_transform(df['famsize'])\n",
    "df['famsize']=1-famsize_no\n",
    "\n",
    "activities_no=label_encoder.fit_transform(df['activities'])\n",
    "df['activites']=activities_no\n",
    "\n",
    "df['Pstatus']=label_encoder.fit_transform(df['Pstatus'])\n",
    "df['nursery']=label_encoder.fit_transform(df['nursery'])\n",
    "df['internet']=label_encoder.fit_transform(df['internet'])\n",
    "df['higher']=label_encoder.fit_transform(df['higher'])\n",
    "df['schoolsup']=label_encoder.fit_transform(df['schoolsup'])\n",
    "df['famsup']=label_encoder.fit_transform(df['famsup'])\n",
    "df['paid']=label_encoder.fit_transform(df['paid'])\n"
   ]
  },
  {
   "cell_type": "code",
   "execution_count": 27,
   "metadata": {
    "execution": {
     "iopub.execute_input": "2020-09-14T08:14:01.645032Z",
     "iopub.status.busy": "2020-09-14T08:14:01.644306Z",
     "iopub.status.idle": "2020-09-14T08:14:01.653391Z",
     "shell.execute_reply": "2020-09-14T08:14:01.654434Z"
    },
    "papermill": {
     "duration": 0.085309,
     "end_time": "2020-09-14T08:14:01.654693",
     "exception": false,
     "start_time": "2020-09-14T08:14:01.569384",
     "status": "completed"
    },
    "tags": []
   },
   "outputs": [
    {
     "name": "stdout",
     "output_type": "stream",
     "text": [
      "  school sex  age address  famsize  Pstatus  Medu  Fedu     Mjob      Fjob  \\\n",
      "0     GP   F   18       U        1        0     4     4  at_home   teacher   \n",
      "1     GP   F   17       U        1        1     1     1  at_home     other   \n",
      "2     GP   F   15       U        0        1     1     1  at_home     other   \n",
      "3     GP   F   15       U        1        1     4     2   health  services   \n",
      "4     GP   F   16       U        1        1     3     3    other     other   \n",
      "\n",
      "   ... goout Dalc  Walc  health  absences  G1  G2  G3 grades  activites  \n",
      "0  ...     4    1     1       3         6   5   6   6      F          0  \n",
      "1  ...     3    1     1       3         4   5   5   6      F          0  \n",
      "2  ...     2    2     3       3        10   7   8  10      D          0  \n",
      "3  ...     2    1     1       5         2  15  14  15      B          1  \n",
      "4  ...     2    1     2       5         4   6  10  10      D          0  \n",
      "\n",
      "[5 rows x 35 columns]\n"
     ]
    }
   ],
   "source": [
    "print(df.head())"
   ]
  },
  {
   "cell_type": "code",
   "execution_count": 28,
   "metadata": {
    "execution": {
     "iopub.execute_input": "2020-09-14T08:14:01.794080Z",
     "iopub.status.busy": "2020-09-14T08:14:01.793414Z",
     "iopub.status.idle": "2020-09-14T08:14:01.816567Z",
     "shell.execute_reply": "2020-09-14T08:14:01.815616Z"
    },
    "papermill": {
     "duration": 0.093336,
     "end_time": "2020-09-14T08:14:01.816764",
     "exception": false,
     "start_time": "2020-09-14T08:14:01.723428",
     "status": "completed"
    },
    "tags": []
   },
   "outputs": [
    {
     "name": "stdout",
     "output_type": "stream",
     "text": [
      "<class 'pandas.core.frame.DataFrame'>\n",
      "RangeIndex: 395 entries, 0 to 394\n",
      "Data columns (total 35 columns):\n",
      " #   Column      Non-Null Count  Dtype \n",
      "---  ------      --------------  ----- \n",
      " 0   school      395 non-null    object\n",
      " 1   sex         395 non-null    object\n",
      " 2   age         395 non-null    int64 \n",
      " 3   address     395 non-null    object\n",
      " 4   famsize     395 non-null    int64 \n",
      " 5   Pstatus     395 non-null    int64 \n",
      " 6   Medu        395 non-null    int64 \n",
      " 7   Fedu        395 non-null    int64 \n",
      " 8   Mjob        395 non-null    object\n",
      " 9   Fjob        395 non-null    object\n",
      " 10  reason      395 non-null    object\n",
      " 11  guardian    395 non-null    object\n",
      " 12  traveltime  395 non-null    int64 \n",
      " 13  studytime   395 non-null    int64 \n",
      " 14  failures    395 non-null    int64 \n",
      " 15  schoolsup   395 non-null    int64 \n",
      " 16  famsup      395 non-null    int64 \n",
      " 17  paid        395 non-null    int64 \n",
      " 18  activities  395 non-null    object\n",
      " 19  nursery     395 non-null    int64 \n",
      " 20  higher      395 non-null    int64 \n",
      " 21  internet    395 non-null    int64 \n",
      " 22  romantic    395 non-null    int64 \n",
      " 23  famrel      395 non-null    int64 \n",
      " 24  freetime    395 non-null    int64 \n",
      " 25  goout       395 non-null    int64 \n",
      " 26  Dalc        395 non-null    int64 \n",
      " 27  Walc        395 non-null    int64 \n",
      " 28  health      395 non-null    int64 \n",
      " 29  absences    395 non-null    int64 \n",
      " 30  G1          395 non-null    int64 \n",
      " 31  G2          395 non-null    int64 \n",
      " 32  G3          395 non-null    int64 \n",
      " 33  grades      395 non-null    object\n",
      " 34  activites   395 non-null    int64 \n",
      "dtypes: int64(26), object(9)\n",
      "memory usage: 108.1+ KB\n"
     ]
    }
   ],
   "source": [
    "df.info()"
   ]
  },
  {
   "cell_type": "markdown",
   "metadata": {
    "papermill": {
     "duration": 0.071101,
     "end_time": "2020-09-14T08:14:01.962800",
     "exception": false,
     "start_time": "2020-09-14T08:14:01.891699",
     "status": "completed"
    },
    "tags": []
   },
   "source": [
    "# **Bar Plots**"
   ]
  },
  {
   "cell_type": "markdown",
   "metadata": {
    "papermill": {
     "duration": 0.072321,
     "end_time": "2020-09-14T08:14:02.107850",
     "exception": false,
     "start_time": "2020-09-14T08:14:02.035529",
     "status": "completed"
    },
    "tags": []
   },
   "source": [
    "* We first group the data based on the grades obtained by the student. \n",
    "* We wish to see whether we can predict any attribute of the student given their grade."
   ]
  },
  {
   "cell_type": "code",
   "execution_count": 29,
   "metadata": {
    "execution": {
     "iopub.execute_input": "2020-09-14T08:14:02.260439Z",
     "iopub.status.busy": "2020-09-14T08:14:02.259743Z",
     "iopub.status.idle": "2020-09-14T08:14:02.273444Z",
     "shell.execute_reply": "2020-09-14T08:14:02.272472Z"
    },
    "papermill": {
     "duration": 0.093599,
     "end_time": "2020-09-14T08:14:02.273638",
     "exception": false,
     "start_time": "2020-09-14T08:14:02.180039",
     "status": "completed"
    },
    "tags": []
   },
   "outputs": [
    {
     "name": "stdout",
     "output_type": "stream",
     "text": [
      "        freetime    famrel     goout  romantic   Pstatus      paid\n",
      "grades                                                            \n",
      "A       3.350000  4.075000  2.950000  0.225000  0.850000  0.325000\n",
      "B       3.216667  4.033333  2.950000  0.283333  0.933333  0.533333\n",
      "C       3.241935  3.806452  2.919355  0.419355  0.887097  0.467742\n",
      "D       3.165049  4.000000  3.009709  0.271845  0.873786  0.543689\n",
      "F       3.261538  3.884615  3.400000  0.400000  0.915385  0.392308\n"
     ]
    },
    {
     "name": "stderr",
     "output_type": "stream",
     "text": [
      "/opt/conda/lib/python3.7/site-packages/ipykernel_launcher.py:2: FutureWarning: Indexing with multiple keys (implicitly converted to a tuple of keys) will be deprecated, use a list instead.\n",
      "  \n"
     ]
    }
   ],
   "source": [
    "grouped_df=df.groupby('grades')\n",
    "print(grouped_df['freetime','famrel','goout','romantic','Pstatus','activities','paid'].mean())\n"
   ]
  },
  {
   "cell_type": "markdown",
   "metadata": {
    "papermill": {
     "duration": 0.068525,
     "end_time": "2020-09-14T08:14:02.411044",
     "exception": false,
     "start_time": "2020-09-14T08:14:02.342519",
     "status": "completed"
    },
    "tags": []
   },
   "source": [
    "# **Relationship Quotient Vs Grade**"
   ]
  },
  {
   "cell_type": "markdown",
   "metadata": {
    "papermill": {
     "duration": 0.069282,
     "end_time": "2020-09-14T08:14:02.549455",
     "exception": false,
     "start_time": "2020-09-14T08:14:02.480173",
     "status": "completed"
    },
    "tags": []
   },
   "source": [
    "Relationship Quotient of a set of students is defined as the average no of students in that set in a romantic relationship"
   ]
  },
  {
   "cell_type": "code",
   "execution_count": 30,
   "metadata": {
    "execution": {
     "iopub.execute_input": "2020-09-14T08:14:02.691601Z",
     "iopub.status.busy": "2020-09-14T08:14:02.690849Z",
     "iopub.status.idle": "2020-09-14T08:14:02.874166Z",
     "shell.execute_reply": "2020-09-14T08:14:02.873547Z"
    },
    "papermill": {
     "duration": 0.255866,
     "end_time": "2020-09-14T08:14:02.874312",
     "exception": false,
     "start_time": "2020-09-14T08:14:02.618446",
     "status": "completed"
    },
    "tags": []
   },
   "outputs": [
    {
     "data": {
      "text/plain": [
       "Text(0.5, 0, 'Grade')"
      ]
     },
     "execution_count": 30,
     "metadata": {},
     "output_type": "execute_result"
    },
    {
     "data": {
      "image/png": "[encoded data removed]",
      "text/plain": [
       "<Figure size 720x432 with 1 Axes>"
      ]
     },
     "metadata": {
      "needs_background": "light"
     },
     "output_type": "display_data"
    }
   ],
   "source": [
    "plt.figure(figsize=(10,6))\n",
    "plt.title(\"Relationship Quotient Vs Grade\")\n",
    "sns.barplot(x=[\"A\",\"B\",\"C\",\"D\",\"F\"], y=grouped_df['romantic'].mean())\n",
    "plt.ylabel(\"Relationship Quotient\")\n",
    "plt.xlabel(\"Grade\")"
   ]
  },
  {
   "cell_type": "markdown",
   "metadata": {
    "papermill": {
     "duration": 0.069657,
     "end_time": "2020-09-14T08:14:03.015571",
     "exception": false,
     "start_time": "2020-09-14T08:14:02.945914",
     "status": "completed"
    },
    "tags": []
   },
   "source": [
    "* The students that get A grade seem to be less likely to be in a romantic relationship than others"
   ]
  },
  {
   "cell_type": "markdown",
   "metadata": {
    "papermill": {
     "duration": 0.068852,
     "end_time": "2020-09-14T08:14:03.154319",
     "exception": false,
     "start_time": "2020-09-14T08:14:03.085467",
     "status": "completed"
    },
    "tags": []
   },
   "source": [
    "# **Free Time Vs Grade**"
   ]
  },
  {
   "cell_type": "code",
   "execution_count": 31,
   "metadata": {
    "execution": {
     "iopub.execute_input": "2020-09-14T08:14:03.301588Z",
     "iopub.status.busy": "2020-09-14T08:14:03.300850Z",
     "iopub.status.idle": "2020-09-14T08:14:03.463142Z",
     "shell.execute_reply": "2020-09-14T08:14:03.463670Z"
    },
    "papermill": {
     "duration": 0.241174,
     "end_time": "2020-09-14T08:14:03.463868",
     "exception": false,
     "start_time": "2020-09-14T08:14:03.222694",
     "status": "completed"
    },
    "tags": []
   },
   "outputs": [
    {
     "data": {
      "text/plain": [
       "Text(0.5, 0, 'Grade')"
      ]
     },
     "execution_count": 31,
     "metadata": {},
     "output_type": "execute_result"
    },
    {
     "data": {
      "image/png": "[encoded data removed]",
      "text/plain": [
       "<Figure size 720x432 with 1 Axes>"
      ]
     },
     "metadata": {
      "needs_background": "light"
     },
     "output_type": "display_data"
    }
   ],
   "source": [
    "plt.figure(figsize=(10,6))\n",
    "plt.title(\"Free Time Vs Grade\")\n",
    "sns.barplot(x=[\"A\",\"B\",\"C\",\"D\",\"F\"], y=grouped_df['freetime'].mean())\n",
    "plt.ylabel(\"Free Time\")\n",
    "plt.xlabel(\"Grade\")"
   ]
  },
  {
   "cell_type": "markdown",
   "metadata": {
    "papermill": {
     "duration": 0.069513,
     "end_time": "2020-09-14T08:14:03.603895",
     "exception": false,
     "start_time": "2020-09-14T08:14:03.534382",
     "status": "completed"
    },
    "tags": []
   },
   "source": [
    "* There doesn't seem to be any relationship amongst the variables (This was what we concluded after observing the heat map)"
   ]
  },
  {
   "cell_type": "markdown",
   "metadata": {
    "papermill": {
     "duration": 0.070555,
     "end_time": "2020-09-14T08:14:03.745391",
     "exception": false,
     "start_time": "2020-09-14T08:14:03.674836",
     "status": "completed"
    },
    "tags": []
   },
   "source": [
    "# **Go out Vs Grade**"
   ]
  },
  {
   "cell_type": "code",
   "execution_count": 32,
   "metadata": {
    "execution": {
     "iopub.execute_input": "2020-09-14T08:14:03.892494Z",
     "iopub.status.busy": "2020-09-14T08:14:03.891746Z",
     "iopub.status.idle": "2020-09-14T08:14:04.047775Z",
     "shell.execute_reply": "2020-09-14T08:14:04.046978Z"
    },
    "papermill": {
     "duration": 0.230032,
     "end_time": "2020-09-14T08:14:04.047914",
     "exception": false,
     "start_time": "2020-09-14T08:14:03.817882",
     "status": "completed"
    },
    "tags": []
   },
   "outputs": [
    {
     "data": {
      "text/plain": [
       "Text(0.5, 0, 'Grade')"
      ]
     },
     "execution_count": 32,
     "metadata": {},
     "output_type": "execute_result"
    },
    {
     "data": {
      "image/png": "[encoded data removed]",
      "text/plain": [
       "<Figure size 720x432 with 1 Axes>"
      ]
     },
     "metadata": {
      "needs_background": "light"
     },
     "output_type": "display_data"
    }
   ],
   "source": [
    "plt.figure(figsize=(10,6))\n",
    "plt.title(\"Goout Vs Grade\")\n",
    "sns.barplot(x=[\"A\",\"B\",\"C\",\"D\",\"F\"], y=grouped_df['goout'].mean())\n",
    "plt.ylabel(\"GO out\")\n",
    "plt.xlabel(\"Grade\")"
   ]
  },
  {
   "cell_type": "markdown",
   "metadata": {
    "papermill": {
     "duration": 0.071991,
     "end_time": "2020-09-14T08:14:04.191645",
     "exception": false,
     "start_time": "2020-09-14T08:14:04.119654",
     "status": "completed"
    },
    "tags": []
   },
   "source": [
    "* There doesn't seem to be any relationship amongst the variables (This was what we concluded after observing the heat map)"
   ]
  },
  {
   "cell_type": "markdown",
   "metadata": {
    "papermill": {
     "duration": 0.070764,
     "end_time": "2020-09-14T08:14:04.334192",
     "exception": false,
     "start_time": "2020-09-14T08:14:04.263428",
     "status": "completed"
    },
    "tags": []
   },
   "source": [
    "# Conclusions from Exploratory Data Analysis:\n",
    "1. Most categorical features don't seem to affect student's performance in exams,when compared to the continous attributes.This is quite surprising, because apriori one would assume social factors such as quality of family relationship/ whether the student goes to paid tuitons or not,etc would have played a big factor\n",
    "2. The categorical attributes also don't seem to be correlated with one another. \n",
    "3. The most important factors which determine student's performance in the final math exam seem to be student's previous performance in the previous 2 exams\n"
   ]
  },
  {
   "cell_type": "markdown",
   "metadata": {
    "papermill": {
     "duration": 0.082203,
     "end_time": "2020-09-14T08:14:04.490796",
     "exception": false,
     "start_time": "2020-09-14T08:14:04.408593",
     "status": "completed"
    },
    "tags": []
   },
   "source": [
    "# Citation:\n",
    "1. P. Cortez and A. Silva. Using Data Mining to Predict Secondary School Student Performance. In A. Brito and J. Teixeira Eds., Proceedings of 5th FUture BUsiness TEChnology Conference (FUBUTEC 2008) pp. 5-12, Porto, Portugal, April, 2008, EUROSIS, ISBN 978-9077381-39-7.\n",
    "2. Cramer's V Correlation matrix code -: https://www.kaggle.com/chrisbss1/cramer-s-v-correlation-matrix\n"
   ]
  },
  {
   "cell_type": "markdown",
   "metadata": {
    "papermill": {
     "duration": 0.070194,
     "end_time": "2020-09-14T08:14:04.643236",
     "exception": false,
     "start_time": "2020-09-14T08:14:04.573042",
     "status": "completed"
    },
    "tags": []
   },
   "source": [
    "# Things to Improve/build on:\n",
    "* Use data from different places around the world and different age groups(eg pre-school/school/university life) to check if the conclusions we derieved from this dataset are universal truths\n",
    "\n",
    "\n"
   ]
  }
 ],
 "metadata": {
  "kernelspec": {
   "display_name": "Python 3",
   "language": "python",
   "name": "python3"
  },
  "language_info": {
   "codemirror_mode": {
    "name": "ipython",
    "version": 3
   },
   "file_extension": ".py",
   "mimetype": "text/x-python",
   "name": "python",
   "nbconvert_exporter": "python",
   "pygments_lexer": "ipython3",
   "version": "3.7.6"
  },
  "papermill": {
   "duration": 36.15211,
   "end_time": "2020-09-14T08:14:05.803179",
   "environment_variables": {},
   "exception": null,
   "input_path": "__notebook__.ipynb",
   "output_path": "__notebook__.ipynb",
   "parameters": {},
   "start_time": "2020-09-14T08:13:29.651069",
   "version": "2.1.0"
  }
 },
 "nbformat": 4,
 "nbformat_minor": 4
}
